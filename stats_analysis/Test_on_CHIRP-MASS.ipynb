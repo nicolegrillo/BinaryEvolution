{
 "cells": [
  {
   "cell_type": "markdown",
   "id": "a8a8835a",
   "metadata": {},
   "source": [
    "# Likelihood and Nested Sampling \n",
    "\n",
    "In this notebook I try to use the nested sampling to recover the posterior distribution of the parameters of the binary system. \n",
    "\n",
    "## Nested sampling basis\n",
    "\n",
    "It's a very new form of algorithm that returns the evidence. More specifically:\n",
    "\n",
    "- It explores the prior by extracting some points; \n",
    "- It ranks them base on the likelihood; \n",
    "- The lowest ranked point is removed aand we add a higher one.\n",
    "\n",
    "The points are saved with weights $w_i$. The update of the least ranked point ($w_{\\mathrm{least}}$) is done through some MCMC according to the prior, accepting only steps that keep the likelihood above the original $L_{\\mathrm{least}}$. \n",
    "\n",
    "- The cluster of points climbs up the likelihood accumulating Bayesian evidence information along the way.\n",
    "\n",
    "## On the priors\n",
    "\n",
    "The prior choice is not always easy to do. It depends on how the expectations are: let's see some examples.\n",
    "\n",
    "- If you want to probe the chirp mass for example, and you know $M_{\\mathrm{chirp}} \\simeq 400$, you can set your prior knowledge to be from $0$ to $1000$. Each point has the same weight in this prior, and so it is clear it's an appropriate choice. Generally, a standard uniform distribution is the following: \n",
    "\n",
    "$$f(x, a, b) = \\cases{1 \\ \\text{if} \\ x \\in [a, b]\\\\ \n",
    "0 \\ \\text{elsewhere}}$$\n",
    "\n",
    "- If you instead want to probe the accretion disk parameters, for example the $\\Sigma_0$ normallization, it is clear you might want to see if this number is compatible with $0$, and this completely changes the kind of distribution you choose. A log-prior distribution could do the job: \n",
    "\n",
    "$$f(x, a, b) = \\frac{1}{\\log(\\frac{b}{a}) \\cdot x}$$\n",
    "\n",
    "This distribution is uniform in log-scale, but the points are weighted differently. "
   ]
  },
  {
   "cell_type": "code",
   "execution_count": 26,
   "id": "random-deposit",
   "metadata": {},
   "outputs": [],
   "source": [
    "import numpy as np\n",
    "import scipy\n",
    "from scipy.signal import savgol_filter\n",
    "import matplotlib.pyplot as plt\n",
    "from scipy.optimize import root_scalar, minimize_scalar\n",
    "from scipy.interpolate import interp1d\n",
    "from pydd.analysis import calculate_SNR, calculate_match_unnormd_fft, get_match_pads, loglikelihood_fft, loglikelihood_fft_data, calculate_match_unnormd_fft_data\n",
    "from pydd.binary import (\n",
    "    AccretionDisk,\n",
    "    MSUN,\n",
    "    PC,\n",
    "    Phi_to_c,\n",
    "    get_c_f,\n",
    "    _Phi_to_c_indef,\n",
    "    VacuumBinary,\n",
    "    convert,\n",
    "    get_M_chirp,\n",
    "    get_f_isco,\n",
    "    get_f_range,\n",
    "    get_m_1,\n",
    "    make_vacuum_binary,\n",
    "    t_to_c,\n",
    "    YR,\n",
    "    amp,\n",
    "    d2Phi_dt2,\n",
    "    G,\n",
    "    C,\n",
    "    Psi,\n",
    "    restricted_hypgeom,\n",
    "    h_0,\n",
    "    _Phi_to_c_indef\n",
    ")\n",
    "\n",
    "import pickle\n",
    "from typing import Tuple\n",
    "\n",
    "import dynesty\n",
    "from dynesty import plotting as dyplot\n",
    "\n",
    "from tqdm.auto import trange\n",
    "import corner"
   ]
  },
  {
   "cell_type": "code",
   "execution_count": 27,
   "id": "4049d2a3",
   "metadata": {},
   "outputs": [],
   "source": [
    "plt.rcParams['agg.path.chunksize'] = 1000  # Set a larger value for chunksize\n",
    "plt.rcParams.update({\n",
    "    \"text.usetex\": False,\n",
    "    \"font.family\": \"serif\",\n",
    "    \"font.sans-serif\": [\"TimesNewRoman\"]})\n",
    "plt.rcParams[\"mathtext.fontset\"] = \"stix\"\n",
    "plt.rcParams[\"axes.labelsize\"] = \"14\""
   ]
  },
  {
   "cell_type": "code",
   "execution_count": 28,
   "id": "0a2b39a2",
   "metadata": {},
   "outputs": [],
   "source": [
    "# Set detector\n",
    "detector = \"LISA\""
   ]
  },
  {
   "cell_type": "code",
   "execution_count": 29,
   "id": "596bd53d",
   "metadata": {},
   "outputs": [],
   "source": [
    "# Set PSDs, choose observation time and SNR threshold (will set distance in signal system below)\n",
    "if detector == \"et\":\n",
    "    from pydd.noise import S_n_et as S_n, f_range_et as f_range_n  # ET\n",
    "\n",
    "    T_OBS = 1 * YR\n",
    "    SNR_THRESH = 12.0\n",
    "    TITLE = \"Einstein Telescope\"\n",
    "elif detector == \"ce\":\n",
    "    from pydd.noise import S_n_ce as S_n, f_range_ce as f_range_n  # CE\n",
    "\n",
    "    T_OBS = 1 * YR\n",
    "    SNR_THRESH = 12.0\n",
    "    TITLE = \"Cosmic Explorer\"\n",
    "elif detector == \"aLIGO\":\n",
    "    from pydd.noise import S_n_aLIGO as S_n, f_range_aLIGO as f_range_n  # aLIGO\n",
    "\n",
    "    T_OBS = 1 * YR \n",
    "    SNR_THRESH = 12.0\n",
    "    TITLE = \"aLIGO\"\n",
    "elif detector == \"LISA\":\n",
    "    from pydd.noise import S_n_LISA as S_n, f_range_LISA as f_range_n  # LISA\n",
    "\n",
    "    T_OBS = 1 * YR #seconds\n",
    "    SNR_THRESH = 100.0\n",
    "    TITLE = \"LISA\""
   ]
  },
  {
   "cell_type": "markdown",
   "id": "4d67bbad",
   "metadata": {},
   "source": [
    "## Create fiducial template"
   ]
  },
  {
   "cell_type": "code",
   "execution_count": 30,
   "id": "2f075e19-8e2c-48bd-b373-e98b347a1640",
   "metadata": {},
   "outputs": [],
   "source": [
    "def get_signal_system() -> Tuple[AccretionDisk, Tuple[float, float]]:\n",
    "    \"\"\"\n",
    "    Creates an accretion disk with SNR and duration as set above for given detector.\n",
    "    \n",
    "    \"\"\"\n",
    "    M_1 = np.array(1e5 * MSUN) # kg\n",
    "    M_2 = np.array(10 * MSUN) # kg\n",
    "    M_CHIRP = get_M_chirp(M_1, M_2)\n",
    "    Q = M_2 / M_1\n",
    "    sigM2 = 1.58e10 # Sigma_0 * Mach^2 in kg/m^2\n",
    "    TT_C = np.array(0.0) # time of coalescence\n",
    "    F_C = get_f_isco(M_1)\n",
    "    PHI_C = np.array(0.0) # phase at coalescence\n",
    "    PN = 0 # zero means don't include PN effects\n",
    "    _AD_D = AccretionDisk(PN,\n",
    "        sigM2,\n",
    "        -1, # torques act to speed up inspiral (choose 1 for opposite direction)\n",
    "        get_M_chirp(M_1, M_2),\n",
    "        M_2 / M_1,\n",
    "        PHI_C,\n",
    "        tT_c=TT_C,\n",
    "        dL=np.array(100e6 * PC), # luminosity distance to source in metres, dummy fixed here\n",
    "        f_c=get_f_isco(M_1),\n",
    "    )\n",
    "\n",
    "    # Frequency range and grids\n",
    "    F_RANGE_D = get_f_range(_AD_D, T_OBS)\n",
    "    FS = np.linspace(\n",
    "        max(F_RANGE_D[0], f_range_n[0]), min(F_RANGE_D[1], f_range_n[1]), 50_000\n",
    "    )\n",
    "\n",
    "    # Get dL such that SNR is as set above\n",
    "    _fn = lambda dL: calculate_SNR(\n",
    "            AccretionDisk(_AD_D.PN,\n",
    "                _AD_D.SigM2,\n",
    "                _AD_D.inout,\n",
    "                _AD_D.M_chirp,\n",
    "                _AD_D.q,\n",
    "                _AD_D.Phi_c,\n",
    "                _AD_D.tT_c,\n",
    "                dL,\n",
    "                _AD_D.f_c,\n",
    "            ),\n",
    "            FS,\n",
    "            S_n,\n",
    "        )\n",
    "    \n",
    "    res = root_scalar(\n",
    "        lambda dL: (_fn(dL) - SNR_THRESH), bracket=(0.1e6 * PC, 100000e6 * PC)\n",
    "    )\n",
    "    assert res.converged\n",
    "    DL = res.root\n",
    "\n",
    "    # Signal system\n",
    "    AD_D = AccretionDisk(_AD_D.PN,\n",
    "        _AD_D.SigM2,\n",
    "        _AD_D.inout,\n",
    "        _AD_D.M_chirp,\n",
    "        _AD_D.q,\n",
    "        _AD_D.Phi_c,\n",
    "        _AD_D.tT_c,\n",
    "        DL,\n",
    "        _AD_D.f_c,\n",
    "    )\n",
    "\n",
    "    return AD_D, F_RANGE_D"
   ]
  },
  {
   "cell_type": "code",
   "execution_count": 31,
   "id": "0f84674c",
   "metadata": {},
   "outputs": [],
   "source": [
    "AD_D, F_RANGE_D = get_signal_system()\n",
    "\n",
    "FS = np.linspace(F_RANGE_D[0], F_RANGE_D[-1], 10_000)  # coarser grid\n",
    "\n",
    "PAD_LOW, PAD_HIGH = get_match_pads(FS)  # padding for likelihood calculation"
   ]
  },
  {
   "cell_type": "code",
   "execution_count": 32,
   "id": "20091959-f8dc-4e1f-bbf9-7df1e6f8a1bb",
   "metadata": {},
   "outputs": [],
   "source": [
    "def get_frequency_noise(psd, fs):\n",
    "    \n",
    "    delta_f = fs[1] - fs[0]\n",
    "    sigma = np.sqrt(psd(fs)/(4 * delta_f))\n",
    "    not_zero = (sigma != 0)\n",
    "    sigma_red = sigma[not_zero]\n",
    "    noise_re = np.random.normal(0, sigma_red)\n",
    "    noise_co = np.random.normal(0, sigma_red)\n",
    "\n",
    "    noise_red = (1/np.sqrt(2)) * (noise_re + 1j * noise_co)\n",
    "\n",
    "    noise = np.zeros(len(sigma), dtype=complex)\n",
    "    noise[not_zero] = noise_red\n",
    "\n",
    "    return noise"
   ]
  },
  {
   "cell_type": "code",
   "execution_count": 33,
   "id": "ba43ce14-af9e-4a73-a44b-5791c7ebc66a",
   "metadata": {},
   "outputs": [],
   "source": [
    "def waveform(params_h, fs, S_n):\n",
    "    flen = len(fs)\n",
    "    delta_f = fs[1] - fs[0]\n",
    "    \n",
    "    wf_h = amp(fs, params_h) * np.exp(1j * Psi(fs, params_h))\n",
    "    noise = get_frequency_noise(S_n, fs)\n",
    "    \n",
    "    wf_h_noise = wf_h + noise\n",
    "    \n",
    "    return wf_h, noise, wf_h_noise"
   ]
  },
  {
   "cell_type": "markdown",
   "id": "5b717c8b",
   "metadata": {},
   "source": [
    "## Generate 'observation' (waveform + noise) either with above, or pull in data from elsewhere"
   ]
  },
  {
   "cell_type": "code",
   "execution_count": 34,
   "id": "3a1d2da1-9df6-4589-bc92-9942f2f3c4ed",
   "metadata": {},
   "outputs": [],
   "source": [
    "#with open(\"file_name\", \"rb\") as f:\n",
    "#    obs = pickle.load(f)"
   ]
  },
  {
   "cell_type": "code",
   "execution_count": 35,
   "id": "81510ce8-8d92-4325-960f-226269477de0",
   "metadata": {},
   "outputs": [],
   "source": [
    "#F_OBS = # pull in frequency grid from observation"
   ]
  },
  {
   "cell_type": "code",
   "execution_count": 36,
   "id": "c530ee0b-a678-456f-a60a-c8ff375ea1fd",
   "metadata": {},
   "outputs": [],
   "source": [
    "#SIG_OBS = # pull in h (averaged over inclination angle) from observation"
   ]
  },
  {
   "cell_type": "code",
   "execution_count": 37,
   "id": "286b6e2c-1647-40ba-9f81-6ee97637603b",
   "metadata": {},
   "outputs": [],
   "source": [
    "#signal = SIG_OBS \n",
    "signal = waveform(AD_D, FS, S_n)[0] # 0: noiseless, 1: noise-only, 2: noisy"
   ]
  },
  {
   "cell_type": "markdown",
   "id": "fb182110",
   "metadata": {},
   "source": [
    "# Functions for likelihood calculation"
   ]
  },
  {
   "cell_type": "code",
   "execution_count": 38,
   "id": "7c8bb866",
   "metadata": {},
   "outputs": [],
   "source": [
    "def calculate_SNR(params, fs, S_n=S_n):\n",
    "    integrand = amp(fs, params) ** 2 / S_n(fs)\n",
    "    return np.sqrt(4 * np.trapz(integrand, fs))\n",
    "\n",
    "def calculate_match_unnormd_fft(\n",
    "    params_h, params_d, fs, pad_low, pad_high, S_n=S_n\n",
    "):\n",
    "    \"\"\"\n",
    "    Inner product of waveforms, maximized over Phi_c by taking absolute value\n",
    "    and t_c using the fast Fourier transform.\n",
    "    \"\"\"\n",
    "    df = fs[1] - fs[0]\n",
    "    wf_h = amp(fs, params_h) * np.exp(1j * Psi(fs, params_h)) # h is the model/template\n",
    "    wf_d = signal # d is the signal including noise\n",
    "    Sns = S_n(fs)\n",
    "\n",
    "    # Use IFFT trick to maximize over t_c. Ref: Maggiore's book, eq. 7.171.\n",
    "    integrand = 4 * wf_h.conj() * wf_d / Sns * df \n",
    "    integrand_padded = np.concatenate((pad_low, integrand, pad_high))\n",
    "    \n",
    "    return np.abs(len(integrand_padded) * np.fft.ifft(integrand_padded)).max()\n",
    "\n",
    "\n",
    "def loglikelihood_fft(\n",
    "    params_h, params_d, fs, pad_low, pad_high, S_n=S_n\n",
    "):\n",
    "    \"\"\"\n",
    "    Log-likelihood for a signal from a binary params_d modeled using params_h,\n",
    "    maximized over the distance to the binary, Phi_c and t_c (i.e., all\n",
    "    extrinsic parameters).\n",
    "    \"\"\"\n",
    "    # Waveform magnitude\n",
    "    ip_hh = calculate_SNR(params_h, fs, S_n) ** 2\n",
    "    # Inner product of waveforms, maximized over Phi_c by taking absolute value\n",
    "    ip_hd = calculate_match_unnormd_fft(params_h, params_d, fs, pad_low, pad_high, S_n)\n",
    "    # Maximize over distance\n",
    "    return 1 / 2 * ip_hd ** 2 / ip_hh"
   ]
  },
  {
   "cell_type": "markdown",
   "id": "0d8c45e0",
   "metadata": {},
   "source": [
    "## Check 'max' likelihood "
   ]
  },
  {
   "cell_type": "code",
   "execution_count": 39,
   "id": "59a0131e",
   "metadata": {},
   "outputs": [
    {
     "name": "stdout",
     "output_type": "stream",
     "text": [
      "5004.880507287326\n"
     ]
    }
   ],
   "source": [
    "maxll = loglikelihood_fft(AD_D, AD_D, FS, PAD_LOW, PAD_HIGH)\n",
    "print(maxll)"
   ]
  },
  {
   "cell_type": "markdown",
   "id": "a6adf785",
   "metadata": {},
   "source": [
    "## Set up prior to sample from "
   ]
  },
  {
   "cell_type": "code",
   "execution_count": 40,
   "id": "1e45b682",
   "metadata": {},
   "outputs": [],
   "source": [
    "# symmetric priors around true value\n",
    "\n",
    "true_value = np.array([AD_D.M_chirp])\n",
    "\n",
    "M_prior = 5e-1 * MSUN\n",
    "\n",
    "prior_list = np.array([M_prior])"
   ]
  },
  {
   "cell_type": "code",
   "execution_count": 41,
   "id": "25740b2c",
   "metadata": {},
   "outputs": [],
   "source": [
    "def ptform_log(u: np.ndarray) -> np.ndarray:\n",
    "    \"\"\"\n",
    "    Maps [0, 1] to deviations away (in log space) from true values.\n",
    "    \"\"\"\n",
    "    assert u.shape == (1,)\n",
    "    v_m = np.array([np.log10((true_value[0] + prior_list[0]) / (true_value[0] - prior_list[0]))])\n",
    "    return (v_m * u)\n",
    "\n",
    "\n",
    "def unpack_log(x: np.ndarray) -> AccretionDisk:\n",
    "    \"\"\"\n",
    "    Convenience function to unpack parameters into an accretion disk.\n",
    "    \"\"\"\n",
    "    \n",
    "    sample_param = np.zeros(1)\n",
    "    sample_param[0] = x[0]\n",
    "    \n",
    "    choose_prior = np.zeros(1)\n",
    "    choose_prior[0] = prior_list[0]\n",
    "\n",
    "    Mc = (AD_D.M_chirp - choose_prior[0]) * 10**sample_param[0]\n",
    "    q = AD_D.q\n",
    "    m_1 = get_m_1(Mc, q)\n",
    "    f_c = get_f_isco(m_1)\n",
    "    PN = 0\n",
    "\n",
    "    return AccretionDisk(PN, AD_D.SigM2, -1, Mc, AD_D.q, AD_D.Phi_c, AD_D.tT_c, AD_D.dL, f_c)\n",
    "\n",
    "def get_ll_fft_log(x: np.ndarray) -> np.ndarray:\n",
    "    \"\"\"\n",
    "    Likelihood function\n",
    "    \"\"\"\n",
    "    ad_h = unpack_log(x)\n",
    "    return loglikelihood_fft(ad_h, AD_D, FS, PAD_LOW, PAD_HIGH, S_n)"
   ]
  },
  {
   "cell_type": "code",
   "execution_count": 42,
   "id": "57d31bcd",
   "metadata": {},
   "outputs": [],
   "source": [
    "# uniform priors, don't run both this and log priors\n",
    "\n",
    "def ptform(u: np.ndarray) -> np.ndarray:\n",
    "    \"\"\"\n",
    "    Maps [0, 1] to deviations away (in log space) from true values.\n",
    "    \"\"\"\n",
    "    assert u.shape == (1,)\n",
    "    v_m = np.array([10]) # M_sun\n",
    "    return [2 * v_m[0] * (u[0]-0.5)]\n",
    "\n",
    "\n",
    "def unpack(x: np.ndarray) -> AccretionDisk:\n",
    "    \"\"\"\n",
    "    Convenience function to unpack parameters into a dark dress.\n",
    "    \"\"\"\n",
    "    dMc = x[0]\n",
    "    Mc = AD_D.M_chirp + dMc * MSUN\n",
    "    q = AD_D.q\n",
    "    m_1 = get_m_1(Mc, q)\n",
    "    f_c = get_f_isco(m_1)\n",
    "    PN = 0\n",
    "    \n",
    "    return AccretionDisk(PN, AD_D.SigM2, -1, Mc, AD_D.q, AD_D.Phi_c, AD_D.tT_c, AD_D.dL, f_c)\n",
    "\n",
    "def get_ll_fft(x: np.ndarray) -> np.ndarray:\n",
    "    \"\"\"\n",
    "    Likelihood function\n",
    "    \"\"\"\n",
    "    ad_h = unpack(x)\n",
    "    return loglikelihood_fft(ad_h, AD_D, FS, PAD_LOW, PAD_HIGH, S_n)"
   ]
  },
  {
   "cell_type": "markdown",
   "id": "8690c706",
   "metadata": {},
   "source": [
    "# Sample points and compute likelihood\n",
    "\n",
    "From the definition of the functions above we have two cases:\n",
    "\n",
    "- $\\textbf{Case 1)}$ Uniform prior: the sampling of points from the prior returns a number $x$ which is in $M_\\odot$. The interval from which $x$ is extracted is given by the chosen width $v_m$ multiplied by a number from a $\\textbf{standard}$ uniform distribution ([0, 1]) $u$, to which we subtracted $0.5$ to center the $\\textbf{true value}$ on $0$. To convert the extraction into a chirp mass we do: \n",
    "\n",
    "$$\\mathcal{M}_{c, i} = \\mathcal{M}_{c, \\mathrm{true}} + x \\text{,}$$\n",
    "\n",
    "where $x$ is in centimeters.\n",
    "\n",
    "- $\\textbf{Case 2)}$ Log prior: the sampling of points from the prior returns a number $x$ which is a $\\textbf{dimensionless number}$. The interval from which $x$ is still the same but is converted in log space, so $v_m$ now is the chosen width in log units. Indeed, going into log space we see that it still has width $2 \\mathrm{chosen width}$. Calling the width $w$, we can use $x$ and extract: \n",
    "\n",
    "$$\\mathcal{M}_{c, i} = (\\mathcal{M}_{c, \\mathrm{true}} - w) \\cdot 10^{x}\\text{.}$$\n",
    "\n",
    "Then, setting $\\mathcal{M}_{c, i} = \\mathcal{M}_{c, \\mathrm{true}}$ we can extract the $x$ corresponding to the true value of $\\mathcal{M}_{c, i}$: \n",
    "\n",
    "$$\\bar{x} = \\log\\left(\\frac{\\mathcal{M}_{c, \\mathrm{true}}}{\\mathcal{M}_{c, \\mathrm{true}} - w}\\right)\\text{.}$$"
   ]
  },
  {
   "cell_type": "code",
   "execution_count": 43,
   "id": "815fd161",
   "metadata": {},
   "outputs": [],
   "source": [
    "mass = 0 # M_chirp\n",
    "\n",
    "# choose which parameter\n",
    "\n",
    "param = mass\n",
    "\n",
    "if param == mass:\n",
    "    units = MSUN\n",
    "else: units = 1"
   ]
  },
  {
   "cell_type": "code",
   "execution_count": 44,
   "id": "cbcb4359",
   "metadata": {},
   "outputs": [
    {
     "data": {
      "application/vnd.jupyter.widget-view+json": {
       "model_id": "d53c1df043af4e7680bacc3ebae5bd27",
       "version_major": 2,
       "version_minor": 0
      },
      "text/plain": [
       "  0%|          | 0/10000 [00:00<?, ?it/s]"
      ]
     },
     "metadata": {},
     "output_type": "display_data"
    }
   ],
   "source": [
    "xs_log = []\n",
    "lls_log = []\n",
    "\n",
    "for _ in trange(10000):\n",
    "    xs_log.append(ptform_log(np.random.rand(1)))\n",
    "    lls_log.append(get_ll_fft_log(xs_log[-1]))\n",
    "\n",
    "xs_log = np.array(xs_log)\n",
    "lls_log = np.array(lls_log)"
   ]
  },
  {
   "cell_type": "code",
   "execution_count": 45,
   "id": "01efd74b",
   "metadata": {},
   "outputs": [
    {
     "data": {
      "application/vnd.jupyter.widget-view+json": {
       "model_id": "964398d759ed4de086848af7063d4aa8",
       "version_major": 2,
       "version_minor": 0
      },
      "text/plain": [
       "  0%|          | 0/1000 [00:00<?, ?it/s]"
      ]
     },
     "metadata": {},
     "output_type": "display_data"
    }
   ],
   "source": [
    "xs = []\n",
    "lls = []\n",
    "for _ in trange(1000):\n",
    "    xs.append(ptform(np.random.rand(1)))\n",
    "    lls.append(get_ll_fft(xs[-1]))\n",
    "    #print(lls[-1])\n",
    "              \n",
    "xs = np.array(xs)\n",
    "lls = np.array(lls)"
   ]
  },
  {
   "cell_type": "code",
   "execution_count": 46,
   "id": "41df6eb8",
   "metadata": {},
   "outputs": [],
   "source": [
    "# Find true value for log prior\n",
    "\n",
    "log_true = np.log10((true_value[0]) / (true_value[0] - prior_list[0]))"
   ]
  },
  {
   "cell_type": "code",
   "execution_count": 47,
   "id": "37871b36-2ee9-4449-81bf-7b2e6d42b619",
   "metadata": {},
   "outputs": [
    {
     "data": {
      "image/png": "[encoded data removed]",
      "text/plain": [
       "<Figure size 800x400 with 2 Axes>"
      ]
     },
     "metadata": {},
     "output_type": "display_data"
    }
   ],
   "source": [
    "fig, axs = plt.subplots(1, 2, figsize=(8, 4))\n",
    "\n",
    "axs[0].scatter(xs, lls, s=5)\n",
    "axs[0].set_xlabel('Prior grid')\n",
    "axs[0].set_ylabel('Likelihood')\n",
    "axs[0].axvline(x=0, label='true value', c='red', linestyle='-.', linewidth=0.9)\n",
    "axs[0].set_title('Uniform prior')\n",
    "axs[0].legend()\n",
    "\n",
    "axs[1].scatter(xs_log, lls_log, s=5)\n",
    "axs[1].set_xlabel('Prior grid')\n",
    "axs[1].set_ylabel('Likelihood')\n",
    "axs[1].axvline(x=log_true, label='true value', c='red', linestyle='-.', linewidth=0.9)\n",
    "axs[0].set_title('Log prior')\n",
    "axs[1].legend()\n",
    "\n",
    "plt.tight_layout()\n",
    "plt.show()"
   ]
  },
  {
   "cell_type": "markdown",
   "id": "6946f3b9-3db9-4bb1-a138-9855ea37bf5b",
   "metadata": {},
   "source": [
    "## Nested Sampling\n",
    "\n",
    "- $\\textbf{Case 1)}$ Uniform prior:"
   ]
  },
  {
   "cell_type": "code",
   "execution_count": 48,
   "id": "09a6d686-5b1d-416b-8a8a-ccd3ebd2bf3d",
   "metadata": {},
   "outputs": [
    {
     "name": "stderr",
     "output_type": "stream",
     "text": [
      "12191it [17:18, 11.74it/s, +1000 | bound: 10 | nc: 1 | ncall: 52095 | eff(%): 25.817 | loglstar:   -inf < 5004.875 <    inf | logz: 4991.557 +/-  0.065 | dlogz:  0.003 > 10.000]\n"
     ]
    }
   ],
   "source": [
    "# Initialize the nested sampler\n",
    "# Use 500 - 2000 live points. You need a lot, otherwise you may miss the high-likelihood region!\n",
    "sampler = dynesty.NestedSampler(get_ll_fft, ptform, 1, nlive=1000, bound='single')\n",
    "\n",
    "# Run the nested sampling\n",
    "sampler.run_nested(dlogz=10)  # dlogz is the threshold on the change in evidence that stops the run\n",
    "\n",
    "# Extract the results\n",
    "results_1d = sampler.results"
   ]
  },
  {
   "cell_type": "code",
   "execution_count": 60,
   "id": "34e7fd53-e79c-45c4-bad8-a3d8dd5ac49e",
   "metadata": {},
   "outputs": [
    {
     "data": {
      "image/png": "[encoded data removed]",
      "text/plain": [
       "<Figure size 340x340 with 1 Axes>"
      ]
     },
     "metadata": {},
     "output_type": "display_data"
    }
   ],
   "source": [
    "labels = [r\"$\\mathcal{M} - \\mathcal{M}_0$ [M$_\\odot$]\"]\n",
    "quantiles_2d = [1 - np.exp(-(x ** 2) / 2) for x in [1, 2, 3]]\n",
    "\n",
    "fig, axes = dyplot.cornerplot(\n",
    "    results_1d, \n",
    "    labels=labels, \n",
    "    quantiles_2d=quantiles_2d, \n",
    "    truths=[0], \n",
    "    #verbose=True\n",
    "    #span=[(-1, 1)]\n",
    ")\n",
    "\n",
    "fig.suptitle(\"Posterior Distribution of Chirp Mass (U-prior)\")\n",
    "plt.tight_layout()\n",
    "\n",
    "plt.show()"
   ]
  },
  {
   "cell_type": "markdown",
   "id": "3161a556",
   "metadata": {},
   "source": [
    "- $\\textbf{Case 2)}$ Log prior:"
   ]
  },
  {
   "cell_type": "code",
   "execution_count": 50,
   "id": "4ba81dd7",
   "metadata": {},
   "outputs": [
    {
     "name": "stderr",
     "output_type": "stream",
     "text": [
      "9191it [14:13, 10.77it/s, +1000 | bound: 7 | nc: 1 | ncall: 46734 | eff(%): 22.283 | loglstar:   -inf < 5004.874 <    inf | logz: 4994.534 +/-  0.032 | dlogz:  0.003 > 10.000]\n"
     ]
    }
   ],
   "source": [
    "# Initialize the nested sampler\n",
    "# Use 500 - 2000 live points. You need a lot, otherwise you may miss the high-likelihood region!\n",
    "sampler_log = dynesty.NestedSampler(get_ll_fft_log, ptform_log, 1, nlive=1000, bound='single')\n",
    "\n",
    "# Run the nested sampling\n",
    "sampler_log.run_nested(dlogz=10)  # dlogz is the threshold on the change in evidence that stops the run\n",
    "\n",
    "# Extract the results\n",
    "results_1d_log = sampler_log.results"
   ]
  },
  {
   "cell_type": "code",
   "execution_count": 61,
   "id": "7d0f2b3e",
   "metadata": {},
   "outputs": [
    {
     "data": {
      "image/png": "[encoded data removed]",
      "text/plain": [
       "<Figure size 340x340 with 1 Axes>"
      ]
     },
     "metadata": {},
     "output_type": "display_data"
    }
   ],
   "source": [
    "labels_log = [r\"$\\log(\\mathcal{M}_c) - \\log(\\mathcal{M}_0 - 1/5  M_\\odot)$\"]\n",
    "quantiles_2d_log = [1 - np.exp(-(x ** 2) / 2) for x in [1, 2, 3]]\n",
    "\n",
    "fig, axes = dyplot.cornerplot(\n",
    "    results_1d_log, \n",
    "    labels=labels_log, \n",
    "    quantiles_2d=quantiles_2d_log, \n",
    "    truths=[log_true],\n",
    "    #span = [(-1,1)]\n",
    "    #verbose=True\n",
    ")\n",
    "\n",
    "fig.suptitle(\"Posterior Distribution of Chirp Mass (log-prior)\", y=1.02)\n",
    "plt.tight_layout(pad=1.0)\n",
    "# Adjust subplot spacing\n",
    "plt.subplots_adjust(left=0.15, right=0.95, top=0.95, bottom=0.15)\n",
    "\n",
    "plt.show()"
   ]
  },
  {
   "cell_type": "markdown",
   "id": "d208b453",
   "metadata": {},
   "source": [
    "# Convert the distributions into ones for $\\mathcal{M}_c$"
   ]
  },
  {
   "cell_type": "code",
   "execution_count": 54,
   "id": "878453ea",
   "metadata": {},
   "outputs": [
    {
     "data": {
      "image/png": "[encoded data removed]",
      "text/plain": [
       "<Figure size 340x340 with 1 Axes>"
      ]
     },
     "metadata": {},
     "output_type": "display_data"
    }
   ],
   "source": [
    "samples = (results_1d.samples * np.array([MSUN]) + np.array([true_value]))/MSUN\n",
    "\n",
    "# Your labels and quantiles\n",
    "labels = [r\"$\\mathcal{M}_c$ [$M_\\odot$]\"]\n",
    "\n",
    "# Create the corner plot with adjusted samples\n",
    "fig = corner.corner(\n",
    "    samples, \n",
    "    labels=labels, \n",
    "    quantiles=[0.16, 0.5, 0.84], \n",
    "    truths=true_value/MSUN,\n",
    "    show_titles=True,\n",
    "    title_fmt=\".3e\",\n",
    "    title_kwargs={\"fontsize\": 12},\n",
    "    span = [(-1,1)]\n",
    ")\n",
    "\n",
    "plt.show()"
   ]
  },
  {
   "cell_type": "code",
   "execution_count": 67,
   "id": "15457e13",
   "metadata": {},
   "outputs": [
    {
     "data": {
      "image/png": "[encoded data removed]",
      "text/plain": [
       "<Figure size 340x340 with 1 Axes>"
      ]
     },
     "metadata": {},
     "output_type": "display_data"
    }
   ],
   "source": [
    "samples_log = (true_value[0] * 10**(results_1d_log.samples) - prior_list[0] * 10**(results_1d_log.samples)) / MSUN\n",
    "\n",
    "# Your labels and quantiles\n",
    "labels = [r\"$\\mathcal{M}_c$ [$M_\\odot$]\"]\n",
    "\n",
    "# Create the corner plot with adjusted samples\n",
    "fig = corner.corner(\n",
    "    samples_log, \n",
    "    labels=labels, \n",
    "    quantiles=[0.16, 0.5, 0.84], \n",
    "    truths=true_value/MSUN,\n",
    "    show_titles=True,\n",
    "    title_fmt=\".3e\",\n",
    "    title_kwargs={\"fontsize\": 12},\n",
    "    span = [(-1,1)]\n",
    ")\n",
    "\n",
    "plt.show()"
   ]
  }
 ],
 "metadata": {
  "@webio": {
   "lastCommId": null,
   "lastKernelId": null
  },
  "kernelspec": {
   "display_name": "Python 3 (ipykernel)",
   "language": "python",
   "name": "python3"
  },
  "language_info": {
   "codemirror_mode": {
    "name": "ipython",
    "version": 3
   },
   "file_extension": ".py",
   "mimetype": "text/x-python",
   "name": "python",
   "nbconvert_exporter": "python",
   "pygments_lexer": "ipython3",
   "version": "3.10.10"
  }
 },
 "nbformat": 4,
 "nbformat_minor": 5
}
