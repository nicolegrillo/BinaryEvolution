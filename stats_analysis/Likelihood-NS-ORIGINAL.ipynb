{
 "cells": [
  {
   "cell_type": "code",
   "execution_count": 2,
   "id": "random-deposit",
   "metadata": {},
   "outputs": [
    {
     "name": "stderr",
     "output_type": "stream",
     "text": [
      "/Users/pippacole/Dropbox/Mac/Documents/pydd-pip/src/pydd/binary.py:535: RuntimeWarning: invalid value encountered in log10\n",
      "  vals_neg = np.log10(1 - hypgeom_scipy(-b_mg[::-1, :], z_mg))\n"
     ]
    }
   ],
   "source": [
    "import numpy as np\n",
    "import scipy\n",
    "from scipy.signal import savgol_filter\n",
    "import matplotlib.pyplot as plt\n",
    "from scipy.optimize import root_scalar, minimize_scalar\n",
    "from scipy.interpolate import interp1d\n",
    "from pydd.analysis import calculate_SNR, calculate_match_unnormd_fft, get_match_pads, loglikelihood_fft, loglikelihood_fft_data, calculate_match_unnormd_fft_data\n",
    "from pydd.binary import (\n",
    "    AccretionDisk,\n",
    "    MSUN,\n",
    "    PC,\n",
    "    Phi_to_c,\n",
    "    get_c_f,\n",
    "    _Phi_to_c_indef,\n",
    "    VacuumBinary,\n",
    "    convert,\n",
    "    get_M_chirp,\n",
    "    get_f_isco,\n",
    "    get_f_range,\n",
    "    get_m_1,\n",
    "    make_vacuum_binary,\n",
    "    t_to_c,\n",
    "    YR,\n",
    "    amp,\n",
    "    d2Phi_dt2,\n",
    "    G,\n",
    "    C,\n",
    "    Psi,\n",
    "    restricted_hypgeom,\n",
    "    h_0,\n",
    "    _Phi_to_c_indef\n",
    ")\n",
    "\n",
    "import pickle\n",
    "from typing import Tuple\n",
    "\n",
    "import dynesty\n",
    "from dynesty import plotting as dyplot\n",
    "\n",
    "from tqdm.auto import trange"
   ]
  },
  {
   "cell_type": "code",
   "execution_count": 3,
   "id": "4049d2a3",
   "metadata": {},
   "outputs": [],
   "source": [
    "plt.rcParams['agg.path.chunksize'] = 1000  # Set a larger value for chunksize\n",
    "plt.rcParams.update({\n",
    "    \"text.usetex\": False,\n",
    "    \"font.family\": \"serif\",\n",
    "    \"font.sans-serif\": [\"TimesNewRoman\"]})\n",
    "plt.rcParams[\"mathtext.fontset\"] = \"stix\"\n",
    "plt.rcParams[\"axes.labelsize\"] = \"18\""
   ]
  },
  {
   "cell_type": "code",
   "execution_count": 4,
   "id": "0a2b39a2",
   "metadata": {},
   "outputs": [],
   "source": [
    "# Set detector\n",
    "detector = \"LISA\""
   ]
  },
  {
   "cell_type": "code",
   "execution_count": 5,
   "id": "596bd53d",
   "metadata": {},
   "outputs": [],
   "source": [
    "# Set PSDs, choose observation time and SNR threshold (will set distance in signal system below)\n",
    "if detector == \"et\":\n",
    "    from pydd.noise import S_n_et as S_n, f_range_et as f_range_n  # ET\n",
    "\n",
    "    T_OBS = 1 * YR\n",
    "    SNR_THRESH = 12.0\n",
    "    TITLE = \"Einstein Telescope\"\n",
    "elif detector == \"ce\":\n",
    "    from pydd.noise import S_n_ce as S_n, f_range_ce as f_range_n  # CE\n",
    "\n",
    "    T_OBS = 1 * YR\n",
    "    SNR_THRESH = 12.0\n",
    "    TITLE = \"Cosmic Explorer\"\n",
    "elif detector == \"aLIGO\":\n",
    "    from pydd.noise import S_n_aLIGO as S_n, f_range_aLIGO as f_range_n  # aLIGO\n",
    "\n",
    "    T_OBS = 1 * YR \n",
    "    SNR_THRESH = 12.0\n",
    "    TITLE = \"aLIGO\"\n",
    "elif detector == \"LISA\":\n",
    "    from pydd.noise import S_n_LISA as S_n, f_range_LISA as f_range_n  # LISA\n",
    "\n",
    "    T_OBS = 1 * YR #seconds\n",
    "    SNR_THRESH = 100.0\n",
    "    TITLE = \"LISA\""
   ]
  },
  {
   "cell_type": "markdown",
   "id": "4d67bbad",
   "metadata": {},
   "source": [
    "# Create fiducial template"
   ]
  },
  {
   "cell_type": "code",
   "execution_count": 18,
   "id": "2f075e19-8e2c-48bd-b373-e98b347a1640",
   "metadata": {},
   "outputs": [],
   "source": [
    "def get_signal_system() -> Tuple[AccretionDisk, Tuple[float, float]]:\n",
    "    \"\"\"\n",
    "    Creates an accretion disk with SNR and duration as set above for given detector.\n",
    "    \n",
    "    \"\"\"\n",
    "    M_1 = np.array(1e5 * MSUN) # kg\n",
    "    M_2 = np.array(10 * MSUN) # kg\n",
    "    M_CHIRP = get_M_chirp(M_1, M_2)\n",
    "    Q = M_2 / M_1\n",
    "    sigM2 = 1.58e10 # Sigma_0 * Mach^2 in kg/m^2\n",
    "    TT_C = np.array(0.0) # time of coalescence\n",
    "    F_C = get_f_isco(M_1)\n",
    "    PHI_C = np.array(0.0) # phase at coalescence\n",
    "    PN = 0 # zero means don't include PN effects\n",
    "    _AD_D = AccretionDisk(PN,\n",
    "        sigM2,\n",
    "        -1, # torques act to speed up inspiral (choose 1 for opposite direction)\n",
    "        get_M_chirp(M_1, M_2),\n",
    "        M_2 / M_1,\n",
    "        PHI_C,\n",
    "        tT_c=TT_C,\n",
    "        dL=np.array(100e6 * PC), # luminosity distance to source in metres, dummy fixed here\n",
    "        f_c=get_f_isco(M_1),\n",
    "    )\n",
    "\n",
    "    # Frequency range and grids\n",
    "    F_RANGE_D = get_f_range(_AD_D, T_OBS)\n",
    "    FS = np.linspace(\n",
    "        max(F_RANGE_D[0], f_range_n[0]), min(F_RANGE_D[1], f_range_n[1]), 50_000\n",
    "    )\n",
    "\n",
    "    # Get dL such that SNR is as set above\n",
    "    _fn = lambda dL: calculate_SNR(\n",
    "            AccretionDisk(_AD_D.PN,\n",
    "                _AD_D.SigM2,\n",
    "                _AD_D.inout,\n",
    "                _AD_D.M_chirp,\n",
    "                _AD_D.q,\n",
    "                _AD_D.Phi_c,\n",
    "                _AD_D.tT_c,\n",
    "                dL,\n",
    "                _AD_D.f_c,\n",
    "            ),\n",
    "            FS,\n",
    "            S_n,\n",
    "        )\n",
    "    \n",
    "    res = root_scalar(\n",
    "        lambda dL: (_fn(dL) - SNR_THRESH), bracket=(0.1e6 * PC, 100000e6 * PC)\n",
    "    )\n",
    "    assert res.converged\n",
    "    DL = res.root\n",
    "\n",
    "    # Signal system\n",
    "    AD_D = AccretionDisk(_AD_D.PN,\n",
    "        _AD_D.SigM2,\n",
    "        _AD_D.inout,\n",
    "        _AD_D.M_chirp,\n",
    "        _AD_D.q,\n",
    "        _AD_D.Phi_c,\n",
    "        _AD_D.tT_c,\n",
    "        DL,\n",
    "        _AD_D.f_c,\n",
    "    )\n",
    "\n",
    "    return AD_D, F_RANGE_D"
   ]
  },
  {
   "cell_type": "code",
   "execution_count": 22,
   "id": "0f84674c",
   "metadata": {},
   "outputs": [],
   "source": [
    "AD_D, F_RANGE_D = get_signal_system()\n",
    "\n",
    "FS = np.linspace(F_RANGE_D[0], F_RANGE_D[-1], 10_000)  # coarser grid\n",
    "\n",
    "PAD_LOW, PAD_HIGH = get_match_pads(FS)  # padding for likelihood calculation"
   ]
  },
  {
   "cell_type": "code",
   "execution_count": 23,
   "id": "20091959-f8dc-4e1f-bbf9-7df1e6f8a1bb",
   "metadata": {},
   "outputs": [],
   "source": [
    "def get_frequency_noise(psd, fs):\n",
    "    \n",
    "    delta_f = fs[1] - fs[0]\n",
    "    sigma = np.sqrt(psd(fs)/(4 * delta_f))\n",
    "    not_zero = (sigma != 0)\n",
    "    sigma_red = sigma[not_zero]\n",
    "    noise_re = np.random.normal(0, sigma_red)\n",
    "    noise_co = np.random.normal(0, sigma_red)\n",
    "\n",
    "    noise_red = (1/np.sqrt(2)) * (noise_re + 1j * noise_co)\n",
    "\n",
    "    noise = np.zeros(len(sigma), dtype=complex)\n",
    "    noise[not_zero] = noise_red\n",
    "\n",
    "    return noise"
   ]
  },
  {
   "cell_type": "code",
   "execution_count": 24,
   "id": "ba43ce14-af9e-4a73-a44b-5791c7ebc66a",
   "metadata": {},
   "outputs": [],
   "source": [
    "def waveform(params_h, fs, S_n):\n",
    "    flen = len(fs)\n",
    "    delta_f = fs[1] - fs[0]\n",
    "    \n",
    "    wf_h = amp(fs, params_h) * np.exp(1j * Psi(fs, params_h))\n",
    "    noise = get_frequency_noise(S_n, fs)\n",
    "    \n",
    "    wf_h_noise = wf_h + noise\n",
    "    \n",
    "    return wf_h, noise, wf_h_noise"
   ]
  },
  {
   "cell_type": "markdown",
   "id": "5b717c8b",
   "metadata": {},
   "source": [
    "# Generate 'observation' (waveform + noise) either with above, or pull in data from elsewhere"
   ]
  },
  {
   "cell_type": "code",
   "execution_count": 124,
   "id": "3a1d2da1-9df6-4589-bc92-9942f2f3c4ed",
   "metadata": {},
   "outputs": [],
   "source": [
    "with open(\"file_name\", \"rb\") as f:\n",
    "    obs = pickle.load(f)"
   ]
  },
  {
   "cell_type": "code",
   "execution_count": null,
   "id": "81510ce8-8d92-4325-960f-226269477de0",
   "metadata": {},
   "outputs": [],
   "source": [
    "F_OBS = # pull in frequency grid from observation"
   ]
  },
  {
   "cell_type": "code",
   "execution_count": null,
   "id": "c530ee0b-a678-456f-a60a-c8ff375ea1fd",
   "metadata": {},
   "outputs": [],
   "source": [
    "SIG_OBS = # pull in h (averaged over inclination angle) from observation"
   ]
  },
  {
   "cell_type": "code",
   "execution_count": 25,
   "id": "286b6e2c-1647-40ba-9f81-6ee97637603b",
   "metadata": {},
   "outputs": [],
   "source": [
    "#signal = SIG_OBS \n",
    "signal = waveform(AD_D, FS, S_n)[2] # use this if you want to use a noisy analytical template as your observation instead"
   ]
  },
  {
   "cell_type": "markdown",
   "id": "fb182110",
   "metadata": {},
   "source": [
    "# Functions for likelihood calculation"
   ]
  },
  {
   "cell_type": "code",
   "execution_count": 32,
   "id": "7c8bb866",
   "metadata": {},
   "outputs": [],
   "source": [
    "def calculate_SNR(params, fs, S_n=S_n):\n",
    "    integrand = amp(fs, params) ** 2 / S_n(fs)\n",
    "    return np.sqrt(4 * np.trapz(integrand, fs))\n",
    "\n",
    "def calculate_match_unnormd_fft(\n",
    "    params_h, params_d, fs, pad_low, pad_high, S_n=S_n\n",
    "):\n",
    "    \"\"\"\n",
    "    Inner product of waveforms, maximized over Phi_c by taking absolute value\n",
    "    and t_c using the fast Fourier transform.\n",
    "    \"\"\"\n",
    "    df = fs[1] - fs[0]\n",
    "    wf_h = amp(fs, params_h) * np.exp(1j * Psi(fs, params_h)) # h is the model/template\n",
    "    wf_d = signal # d is the signal including noise\n",
    "    Sns = S_n(fs)\n",
    "\n",
    "    # Use IFFT trick to maximize over t_c. Ref: Maggiore's book, eq. 7.171.\n",
    "    integrand = 4 * wf_h.conj() * wf_d / Sns * df \n",
    "    integrand_padded = np.concatenate((pad_low, integrand, pad_high))\n",
    "    \n",
    "    return np.abs(len(integrand_padded) * np.fft.ifft(integrand_padded)).max()\n",
    "\n",
    "\n",
    "def loglikelihood_fft(\n",
    "    params_h, params_d, fs, pad_low, pad_high, S_n=S_n\n",
    "):\n",
    "    \"\"\"\n",
    "    Log-likelihood for a signal from a binary params_d modeled using params_h,\n",
    "    maximized over the distance to the binary, Phi_c and t_c (i.e., all\n",
    "    extrinsic parameters).\n",
    "    \"\"\"\n",
    "    # Waveform magnitude\n",
    "    ip_hh = calculate_SNR(params_h, fs, S_n) ** 2\n",
    "    # Inner product of waveforms, maximized over Phi_c by taking absolute value\n",
    "    ip_hd = calculate_match_unnormd_fft(params_h, params_d, fs, pad_low, pad_high, S_n)\n",
    "    # Maximize over distance\n",
    "    return 1 / 2 * ip_hd ** 2 / ip_hh"
   ]
  },
  {
   "cell_type": "markdown",
   "id": "0d8c45e0",
   "metadata": {},
   "source": [
    "# Check 'max' likelihood "
   ]
  },
  {
   "cell_type": "code",
   "execution_count": 33,
   "id": "59a0131e",
   "metadata": {},
   "outputs": [
    {
     "name": "stdout",
     "output_type": "stream",
     "text": [
      "4942.4366012878\n"
     ]
    }
   ],
   "source": [
    "maxll = loglikelihood_fft(AD_D, AD_D, FS, PAD_LOW, PAD_HIGH)\n",
    "print(maxll)"
   ]
  },
  {
   "cell_type": "markdown",
   "id": "a6adf785",
   "metadata": {},
   "source": [
    "# Set up prior to sample from"
   ]
  },
  {
   "cell_type": "code",
   "execution_count": 34,
   "id": "1e45b682",
   "metadata": {},
   "outputs": [],
   "source": [
    "# symmetric priors around true value\n",
    "\n",
    "true_value = [AD_D.M_chirp]\n",
    "\n",
    "M_prior = 5e-1 * MSUN\n",
    "\n",
    "prior_list = [M_prior]"
   ]
  },
  {
   "cell_type": "code",
   "execution_count": 42,
   "id": "5fd6f312",
   "metadata": {},
   "outputs": [],
   "source": [
    "# uniform log priors\n",
    "\n",
    "def ptform_log(u: np.ndarray, param_index) -> np.ndarray:\n",
    "    \"\"\"\n",
    "    Maps [0, 1] to deviations away (in log space) from true values.\n",
    "    \"\"\"\n",
    "    assert u.shape == (1,)\n",
    "    v_m = np.array([np.log10((true_value[param_index] + prior_list[param_index]) / (true_value[param_index] - prior_list[param_index]))])\n",
    "    return [v_m[0] * (u[0])]\n",
    "\n",
    "\n",
    "def unpack(x: np.ndarray, param_index) -> AccretionDisk:\n",
    "    \"\"\"\n",
    "    Convenience function to unpack parameters into an accretion disk.\n",
    "    \"\"\"\n",
    "    \n",
    "    sample_param = np.zeros(1)\n",
    "    sample_param[param_index] = x[0]\n",
    "    \n",
    "    choose_prior = np.zeros(1)\n",
    "    choose_prior[param_index] = prior_list[param_index]\n",
    "\n",
    "    Mc = (AD_D.M_chirp - choose_prior[0]) * 10**sample_param[0]\n",
    "    q = AD_D.q\n",
    "    m_1 = get_m_1(Mc, q)\n",
    "    f_c = get_f_isco(m_1)\n",
    "    PN = 0\n",
    "\n",
    "    return AccretionDisk(PN, AD_D.SigM2, -1, Mc, AD_D.q, AD_D.Phi_c, AD_D.tT_c, AD_D.dL, f_c)\n",
    "\n",
    "def get_ll_fft(x: np.ndarray, param_index) -> np.ndarray:\n",
    "    \"\"\"\n",
    "    Likelihood function\n",
    "    \"\"\"\n",
    "    ad_h = unpack(x, param_index)\n",
    "    return loglikelihood_fft(ad_h, AD_D, FS, PAD_LOW, PAD_HIGH, S_n)"
   ]
  },
  {
   "cell_type": "code",
   "execution_count": 36,
   "id": "dccab2d9-2704-42ca-877b-9853953951d4",
   "metadata": {},
   "outputs": [],
   "source": [
    "# uniform priors, don't run both this and log priors\n",
    "\n",
    "def ptform(u: np.ndarray) -> np.ndarray:\n",
    "    \"\"\"\n",
    "    Maps [0, 1] to deviations away (in log space) from true values.\n",
    "    \"\"\"\n",
    "    assert u.shape == (1,)\n",
    "    v_m = np.array([3000])\n",
    "    return [2 * v_m[0] * (u[0]-0.5)]\n",
    "\n",
    "\n",
    "def unpack(x: np.ndarray) -> AccretionDisk:\n",
    "    \"\"\"\n",
    "    Convenience function to unpack parameters into a dark dress.\n",
    "    \"\"\"\n",
    "    dMc = x[0]\n",
    "    Mc = AD_D.M_chirp + dMc * MSUN\n",
    "    m_1 = get_m_1(Mc, q)\n",
    "    f_c = get_f_isco(m_1)\n",
    "    PN = 0\n",
    "    \n",
    "    return AccretionDisk(PN, AD_D.SigM2, -1, Mc, AD_D.q, AD_D.Phi_c, AD_D.tT_c, AD_D.dL, f_c)\n",
    "\n",
    "def get_ll_fft(x: np.ndarray) -> np.ndarray:\n",
    "    \"\"\"\n",
    "    Likelihood function\n",
    "    \"\"\"\n",
    "    ad_h = unpack(x)\n",
    "    return loglikelihood_fft(ad_h, AD_D, FS, PAD_LOW, PAD_HIGH, S_n)\n",
    "\"\"\""
   ]
  },
  {
   "cell_type": "markdown",
   "id": "8690c706",
   "metadata": {},
   "source": [
    "# Sample points and compute likelihood"
   ]
  },
  {
   "cell_type": "code",
   "execution_count": 43,
   "id": "815fd161",
   "metadata": {},
   "outputs": [],
   "source": [
    "mass = 0 # M_chirp\n",
    "\n",
    "# choose which parameter\n",
    "\n",
    "param = mass\n",
    "\n",
    "if param == mass:\n",
    "    units = MSUN\n",
    "else: units = 1"
   ]
  },
  {
   "cell_type": "code",
   "execution_count": 45,
   "id": "cbcb4359",
   "metadata": {},
   "outputs": [
    {
     "data": {
      "application/vnd.jupyter.widget-view+json": {
       "model_id": "81d9be821102483c9b5ccd0383f1b894",
       "version_major": 2,
       "version_minor": 0
      },
      "text/plain": [
       "  0%|          | 0/10000 [00:00<?, ?it/s]"
      ]
     },
     "metadata": {},
     "output_type": "display_data"
    }
   ],
   "source": [
    "xs_log = []\n",
    "lls_log = []\n",
    "for _ in trange(10000):\n",
    "    xs_log.append(ptform_log(np.random.rand(1), param))\n",
    "    lls_log.append(get_ll_fft(xs_log[-1], param))\n",
    "\n",
    "xs_log = np.array(xs_log)\n",
    "lls_log = np.array(lls_log)"
   ]
  },
  {
   "cell_type": "code",
   "execution_count": 60,
   "id": "3be52559-c477-404e-92f5-7c8cd73c91da",
   "metadata": {},
   "outputs": [
    {
     "data": {
      "application/vnd.jupyter.widget-view+json": {
       "model_id": "e3fb01a5726b4261877e7101635ae5f6",
       "version_major": 2,
       "version_minor": 0
      },
      "text/plain": [
       "  0%|          | 0/1000 [00:00<?, ?it/s]"
      ]
     },
     "metadata": {},
     "output_type": "display_data"
    }
   ],
   "source": [
    "#xs = []\n",
    "#lls = []\n",
    "#for _ in trange(1000):\n",
    "#    xs.append(ptform(np.random.rand(1)))\n",
    "#    lls.append(get_ll_fft(xs[-1]))\n",
    "               \n",
    "#xs = np.array(xs)\n",
    "#lls = np.array(lls)"
   ]
  },
  {
   "cell_type": "code",
   "execution_count": 46,
   "id": "37871b36-2ee9-4449-81bf-7b2e6d42b619",
   "metadata": {},
   "outputs": [
    {
     "data": {
      "text/plain": [
       "<matplotlib.collections.PathCollection at 0x7f98b0266eb0>"
      ]
     },
     "execution_count": 46,
     "metadata": {},
     "output_type": "execute_result"
    },
    {
     "data": {
      "image/png": "[encoded data removed]",
      "text/plain": [
       "<Figure size 640x480 with 1 Axes>"
      ]
     },
     "metadata": {},
     "output_type": "display_data"
    }
   ],
   "source": [
    "plt.scatter(xs_log,lls_log)"
   ]
  },
  {
   "cell_type": "markdown",
   "id": "6946f3b9-3db9-4bb1-a138-9855ea37bf5b",
   "metadata": {},
   "source": [
    "# Nested Sampling"
   ]
  },
  {
   "cell_type": "code",
   "execution_count": null,
   "id": "09a6d686-5b1d-416b-8a8a-ccd3ebd2bf3d",
   "metadata": {},
   "outputs": [],
   "source": [
    "# Use 500 - 2000 live points. You need a lot, otherwise you may miss the high-likelihood region!\n",
    "sampler = dynesty.NestedSampler(get_ll_fft, ptform_log, 1, nlive=1000, bound = 'single')\n",
    "sampler.run_nested(dlogz = 10) # dlogz is the threshold on the change in evidence that stops the run\n",
    "results_1d = sampler.results"
   ]
  },
  {
   "cell_type": "code",
   "execution_count": null,
   "id": "34e7fd53-e79c-45c4-bad8-a3d8dd5ac49e",
   "metadata": {},
   "outputs": [],
   "source": [
    "labels = (\n",
    "    r\"$\\mathcal{M} - \\mathcal{M}_0$ [M$_\\odot$]\"\n",
    ")\n",
    " \n",
    "quantiles_2d = [1 - np.exp(-(x ** 2) / 2) for x in [1, 2, 3]]\n",
    "\n",
    "fig, axes = dyplot.cornerplot(\n",
    "    results_1d, labels=labels, quantiles_2d=quantiles_2d, truths=(0), verbose = True, span = [(-1,1)]\n",
    ")\n",
    "fig.tight_layout()"
   ]
  }
 ],
 "metadata": {
  "@webio": {
   "lastCommId": null,
   "lastKernelId": null
  },
  "kernelspec": {
   "display_name": "Python 3 (ipykernel)",
   "language": "python",
   "name": "python3"
  },
  "language_info": {
   "codemirror_mode": {
    "name": "ipython",
    "version": 3
   },
   "file_extension": ".py",
   "mimetype": "text/x-python",
   "name": "python",
   "nbconvert_exporter": "python",
   "pygments_lexer": "ipython3",
   "version": "3.8.19"
  }
 },
 "nbformat": 4,
 "nbformat_minor": 5
}
