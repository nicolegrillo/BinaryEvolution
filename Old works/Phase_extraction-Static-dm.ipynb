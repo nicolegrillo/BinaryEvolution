{
 "cells": [
  {
   "cell_type": "markdown",
   "id": "ae4b98eb",
   "metadata": {},
   "source": [
    "# Binary phase evaluation: the effective DM spike\n",
    "\n",
    "We model a binary system embedded in an accretion disk, along with a dark matter spike and gravitational waves emission.\n",
    "The goal for our modelization is to produce an estimate of the following quantity: \n",
    "\n",
    "\\begin{equation}\n",
    "    \\dot{r} = \\dot{r}_{\\mathrm{gas}} + \\dot{r}_{\\mathrm{DF}} + \\dot{r}_{\\mathrm{GW}}\\text{,}\n",
    "\\end{equation}\n",
    "\n",
    "where $\\dot{r}_\\mathrm{gas}$ is the contribution coming from gas torques from the accretion disk surrounding the binary, $\\dot{r}_\\mathrm{DF}$ is the effect of dynamical friction from the presence of the dark matter spike, and $\\dot{r}_\\mathrm{GW}$ is the contribution from the gravitational waves emission. Specifically, we adopt the classical Newtonian formalism, computing the results from the reduced mass-system, and in case assuming that $m_1 \\gg m_2$.\n",
    "\n",
    "Once the shape of $\\dot{r}$ is clear, one can evaluate the phase of the binary system from a generic $f$-frequency to the $f_{\\mathrm{isco}}$-frequency. Assuming circular orbits the frequency is:\n",
    "\n",
    "\\begin{equation}\n",
    "    f = \\frac{1}{\\pi} \\sqrt{\\frac{G(m_1 + m_2)}{r^3}}\\text{.}\n",
    "\\end{equation}\n",
    "\n",
    "We can evaluate $\\Phi(f)$ as: \n",
    "\n",
    "\\begin{equation}\n",
    "    \\Phi(f) = 2\\pi \\int_{f}^{f_{\\mathrm{isco}}} \\frac{dt}{df'} f' df'\\text{,}\n",
    "\\end{equation}\n",
    "\n",
    "where the relation $\\frac{dt}{df'}$ is extracted directly from the expression in the above equation by the following chain rule: $\\frac{dr}{dt} \\frac{df}{dr} = \\frac{df}{dt}$. "
   ]
  },
  {
   "cell_type": "markdown",
   "id": "0bf5d43d",
   "metadata": {},
   "source": [
    "## Expressions for the $\\dot{r}_i$ contributions\n",
    "\n",
    "- Accretion disk's torques: \n",
    "\n",
    "\\begin{equation}\n",
    "    \\dot{r}_\\mathrm{gas} = - 2 \\Sigma_0 \\frac{r^{\\gamma + 3/2}}{r_0^\\gamma} \\frac{G^{1/2} (m_1 + m_2)^{1/2}}{\\mu} q^{2} \\mathcal{M}^2\\text{.}\n",
    "\\end{equation}\n",
    "\n",
    "- Dark matter spike's dynamical friction:\n",
    "\n",
    "Static:\n",
    "\n",
    "\\begin{equation}\n",
    "\\label{eq:r_dot_DF}\n",
    "    \\dot{r}_{\\mathrm{DF}} = - \\frac{8 \\pi G^{\\frac{1}{2}} \\mu \\log{(\\Lambda)} \\rho_6 r_6^{\\gamma_s} \\xi(v)}{r^{\\gamma_s - \\frac{5}{2}}(m_1 + m_2)^{\\frac{3}{2}}}\\text{,}\n",
    "\\end{equation}\n",
    "\n",
    "Time dependent: in this case only the phase has an analytical form, which is derived from the fit of the outcomde of the HaloFeedback code evolving the static dress as the binary evolves. \n",
    "\n",
    "\\begin{equation}\n",
    "\\label{eq:phi_time}\n",
    "    \\Phi(f) = \\Phi_{\\mathrm{GW}} \\cdot (1 - \\eta \\cdot y^{-\\lambda}(1 - 2F_{1}))\n",
    "\\end{equation}\n",
    "\n",
    "where the quantities $\\eta$, $\\lambda$ and $y$ are derived from the frequencies and other constants set in the data (see below for the implementation), while $2F_1$ is the $\\textbf{gaussian hypergeometric}$ function, and $\\Phi_{\\mathrm{GW}}$ is the vacuum phase to coalescence that comes from integrating the below quantity. If we reverse the process to find $\\Phi(f)$, it is possible to find an expression for $\\dot{r}_{\\mathrm{eff, dm}}$, but I will not report it here.\n",
    "\n",
    "- Gravitational waves: \n",
    "\n",
    "\\begin{equation}\n",
    "\\label{eq:r_dot_gw}\n",
    "    \\dot{r}_{\\mathrm{GW}} = - \\frac{64 (m_1 + m_2) G^3 m_1 m_2}{5 c^5 r^3}\\text{.}\n",
    "\\end{equation}\n",
    "\n",
    "In the code, there will be enabled the possibility to choose which of these options to keep in the final formula, which will account for the sum of all the contributions the user requires. \n",
    "\n",
    "## Formulas to use and implement \"in code\" for the phase evaluation\n",
    "\n",
    "I used the following quantities: \n",
    "\n",
    "- Derivative of f in radial separation:\n",
    "\n",
    "\\begin{equation}\n",
    "\\label{eq:dfdr}\n",
    "    \\frac{df}{dr} = \\frac{1}{\\pi} (-\\frac{3}{2}) \\sqrt{\\frac{G (m_1 + m_2)}{r^5}}\\text{.}\\\\\n",
    "\\end{equation}\n",
    "\n",
    "\n",
    "- Inverse of f(r):\n",
    "\n",
    "\\begin{equation}\n",
    "\\label{eq:r(f)}\n",
    "    r(f) = \\sqrt[3]{\\frac{G (m_1 + m_2)}{\\pi^2 f^2}}\\text{,}\\\\\n",
    "\\end{equation}\n",
    "\n",
    "- Derivative of f in time:\n",
    "\n",
    "\\begin{equation}\n",
    "\\label{eq:dfdt}\n",
    "    \\frac{df}{dt} = \\dot{r} \\frac{df}{dr}\\text{,}\\\\\n",
    "\\end{equation}\n",
    "\n",
    "- Second derivative of the phase in time:\n",
    "\n",
    "\\begin{equation}\n",
    "\\label{eq:phi_dot-dot}\n",
    "    \\ddot{\\Phi}(f) = 4 \\pi^2 f \\left(\\frac{d\\Phi(f)}{df}\\right)^{-1} \n",
    "\\end{equation}"
   ]
  },
  {
   "cell_type": "markdown",
   "id": "17f491ab",
   "metadata": {},
   "source": [
    "# Code implementation\n",
    "\n",
    "### Libraries and constants"
   ]
  },
  {
   "cell_type": "code",
   "execution_count": 60,
   "id": "c4d3dcb0",
   "metadata": {},
   "outputs": [],
   "source": [
    "import numpy as np\n",
    "import matplotlib.pyplot as plt\n",
    "from matplotlib.ticker import ScalarFormatter\n",
    "import scipy as sp\n",
    "from scipy.integrate import quad, simps \n",
    "from scipy.special import hyp2f1, betainc\n",
    "import pandas as pd"
   ]
  },
  {
   "cell_type": "code",
   "execution_count": 102,
   "id": "222e10dd",
   "metadata": {},
   "outputs": [],
   "source": [
    "# Define some constants: \n",
    "\n",
    "G = 6.67408e-11 # kg^-1 m^3 / s^2\n",
    "c = 299792458.0 # m / s\n",
    "pc = 3.08567758149137e16 # m\n",
    "m_sun = 1.98855e30 # kg"
   ]
  },
  {
   "cell_type": "code",
   "execution_count": 128,
   "id": "f1b35c26",
   "metadata": {},
   "outputs": [],
   "source": [
    "# Fix parameters:\n",
    "\n",
    "m1 = 1e3 * m_sun \n",
    "m2 = 1 * m_sun \n",
    "q = m2/m1\n",
    "M_tot = m1 + m2\n",
    "mu = m1 * m2 / M_tot\n",
    "chirp_mass = (m1 * m2)**(3/5) / (M_tot)**(1/5)"
   ]
  },
  {
   "cell_type": "markdown",
   "id": "04fc2348",
   "metadata": {},
   "source": [
    "### Dark matter spike environment\n",
    "\n",
    "First, we are going to concentrate on the dark matter spike environment only."
   ]
  },
  {
   "cell_type": "code",
   "execution_count": 155,
   "id": "7ac622dd",
   "metadata": {},
   "outputs": [],
   "source": [
    "# Spike: data taken from paper (https://arxiv.org/abs/2002.12811)\n",
    "\n",
    "gammas = 7/3\n",
    "rho_sp =  226 * m_sun / (pc)**3\n",
    "r_sp = ((3 - gammas) * 0.2 ** (3 - gammas) * m1 / (2 * np.pi * rho_sp)) ** (1 / 3)\n",
    "epsv = 0.58 \n",
    "logL = np.log(1 / q**(1/2))\n",
    "\n",
    "r_isco = 6 * m1 * G / c**2 # of central bh"
   ]
  },
  {
   "cell_type": "markdown",
   "id": "5161addd",
   "metadata": {},
   "source": [
    "### Base functions $\\rightarrow$ find phase $\\Phi(f)$ "
   ]
  },
  {
   "cell_type": "code",
   "execution_count": 130,
   "id": "bc4fa6be",
   "metadata": {},
   "outputs": [],
   "source": [
    "def rho_dm(r):\n",
    "    \n",
    "    '''Finds the density profile of the dark matter using the above formulation.'''\n",
    "    \n",
    "    return rho_sp * (r_sp / r)**(gammas)"
   ]
  },
  {
   "cell_type": "code",
   "execution_count": 131,
   "id": "f47383a9",
   "metadata": {},
   "outputs": [],
   "source": [
    "def frequency(r):\n",
    "        \n",
    "    '''Finds the binary frequency assuming circular orbits, at fixed radius r.'''\n",
    "        \n",
    "    return 1 / (np.pi) * np.sqrt(G * M_tot / r**3)"
   ]
  },
  {
   "cell_type": "code",
   "execution_count": 132,
   "id": "346d4909",
   "metadata": {},
   "outputs": [],
   "source": [
    "def binary_separation(f):\n",
    "        \n",
    "    '''Finds the binary frequency assuming circular orbits, at fixed radius r.'''\n",
    "        \n",
    "    return (G * M_tot / (f**2 * np.pi**2))**(1/3)"
   ]
  },
  {
   "cell_type": "code",
   "execution_count": 133,
   "id": "914499f8",
   "metadata": {},
   "outputs": [],
   "source": [
    "def df_dr(r): \n",
    "    \n",
    "    '''Finds the binary frequency radial derivative assuming circular orbits.'''\n",
    "        \n",
    "    return 1 / np.pi * (- 3 / 2) * np.sqrt(G * M_tot / r**5)"
   ]
  },
  {
   "cell_type": "code",
   "execution_count": 134,
   "id": "fb3c9d31",
   "metadata": {},
   "outputs": [],
   "source": [
    "def df_dt(r, dot_r): \n",
    "    \n",
    "    '''Finds the binary frequency time derivative.'''\n",
    "    \n",
    "    return df_dr(r) * dot_r"
   ]
  },
  {
   "cell_type": "code",
   "execution_count": 135,
   "id": "43c2db8d",
   "metadata": {},
   "outputs": [],
   "source": [
    "def yes_or_no(elem):\n",
    "    \n",
    "    '''Checks whether you want a contribution or not. (could be made boolean directly)'''\n",
    "        \n",
    "    if elem=='y': \n",
    "        \n",
    "        return 1\n",
    "    \n",
    "    return 0"
   ]
  },
  {
   "cell_type": "code",
   "execution_count": 136,
   "id": "4a76a49a",
   "metadata": {},
   "outputs": [],
   "source": [
    "def find_dot_r_dm(r):\n",
    "    \n",
    "    '''Find the binary change in separation over time, asking the user to choose which contribution to keep.'''\n",
    "        \n",
    "    acc = ''\n",
    "    dm = ''\n",
    "    gw = ''\n",
    "    \n",
    "    while(dm != 'y' and dm != 'n'):\n",
    "        print('Include the dark matter contribution? (y/n)')\n",
    "        dm = input()\n",
    "    \n",
    "    while(gw != 'y' and gw != 'n'):\n",
    "        print('Include the GW contribution? (y/n)')\n",
    "        gw = input()\n",
    "    \n",
    "    r_dot_dm = - 8 * np.pi * G**(1/2) * m2 * logL * rho_dm(r) * epsv * r**(5/2) / (m1 * M_tot**(1/2)) \n",
    "    \n",
    "    r_dot_gw = - 64 * M_tot * G**3 * m1 * m2 / (5 * c**5 * r**3)\n",
    "    \n",
    "    return yes_or_no(dm) * r_dot_dm + yes_or_no(gw) * r_dot_gw"
   ]
  },
  {
   "cell_type": "code",
   "execution_count": 137,
   "id": "af1b000c",
   "metadata": {},
   "outputs": [],
   "source": [
    "def phase_f_by_hand(df_dt): \n",
    "    \n",
    "    '''Finds the binary phase as a function of frequency.'''\n",
    "    \n",
    "    freqs = frequency(r_grid)\n",
    "    to_integrate = 2 * np.pi * df_dt**(-1) * freqs\n",
    "    phase_f = []\n",
    "    \n",
    "    for b in freqs:  # range of values for the lower limit\n",
    "        \n",
    "        # Select the appropriate range of f values for integration\n",
    "        f_range = freqs[freqs >= b]\n",
    "        \n",
    "        phase_f.append(np.trapz(to_integrate[:len(f_range)], x=f_range))\n",
    "\n",
    "    return np.array(phase_f)"
   ]
  },
  {
   "cell_type": "code",
   "execution_count": 138,
   "id": "b80d7a1c",
   "metadata": {},
   "outputs": [],
   "source": [
    "def ddot_phase_f(df_dt): \n",
    "    \n",
    "    '''Finds the binary second derivative phase as a function of frequency, using the equations above.'''\n",
    "    \n",
    "    return 2 * np.pi * df_dt"
   ]
  },
  {
   "cell_type": "code",
   "execution_count": 139,
   "id": "c35eaa81",
   "metadata": {},
   "outputs": [],
   "source": [
    "def h_0(f, ddot_phase):\n",
    "    \n",
    "    '''Finds the strain as a function of frequency, and \\ddot{\\Phi}'''\n",
    "    \n",
    "    return 1/2 * 4 * np.pi**(2/3) * G**(5/3) * chirp_mass**(5/3) * f**(2/3) / c**4 * (2 * np.pi / ddot_phase)**(1/2) / (4 * 10**9 * pc)"
   ]
  },
  {
   "cell_type": "markdown",
   "id": "fe6e753f",
   "metadata": {},
   "source": [
    "### Domain of the problem\n",
    "\n",
    "We define the domain of the problem setting the grid that's based on LISA's sensitivity (minimum treshold). "
   ]
  },
  {
   "cell_type": "code",
   "execution_count": 140,
   "id": "f3c4f228",
   "metadata": {},
   "outputs": [],
   "source": [
    "f_LISA = 1e-4 # Hz\n",
    "\n",
    "r_max = binary_separation(f_LISA)\n",
    "\n",
    "# set grid of radial distances\n",
    "r_grid = np.linspace(r_isco, r_max, int(1e5))"
   ]
  },
  {
   "cell_type": "markdown",
   "id": "4c0bcdcf",
   "metadata": {},
   "source": [
    "### From the Git-library\n",
    "\n",
    "https://github.com/pipcole/pydd/blob/main/src/pydd/binary.py#L45 \n",
    "\n",
    "I here copy the functions used to estimate the phase to coalescence used in the paper, to double check my numerical integration results.  "
   ]
  },
  {
   "cell_type": "code",
   "execution_count": 156,
   "id": "1acc7d41",
   "metadata": {},
   "outputs": [],
   "source": [
    "def hypgeom_scipy(b, z):\n",
    "    \n",
    "    return hyp2f1(1, b, 1 + b, z)\n",
    "\n",
    "#---------------------------------------------\n",
    "\n",
    "def _Phi_to_c_indef_s(f):\n",
    "    \n",
    "    c_f = 5 * c**5 / (8 * m1**2) * np.pi**(2 * (gammas - 4) / 3) * G**(- (2 + gammas)/3) * M_tot**((1 - gammas) / 3) *\\\n",
    "    r_sp**(gammas) * epsv * rho_sp * logL\n",
    "    \n",
    "    f_eq =  c_f ** (3 / (11 - 2 * gammas))\n",
    "    \n",
    "    a_v = 1 / 16 * (c ** 3 / (np.pi * G * chirp_mass)) ** (5 / 3)\n",
    "    \n",
    "    x = f / f_eq\n",
    "    th = 5 / (11 - 2 * gammas)\n",
    "    \n",
    "    return a_v / f ** (5 / 3) * hypgeom_scipy(th, -(x ** (-5 / (3 * th))))\n",
    "\n",
    "#---------------------------------------------\n",
    "\n",
    "def phasePN(nu, v):\n",
    "    return (3715/1008 + 55 * nu /12) * v**2 - 10 * np.pi * v**3 +(15293365/1016064 + 27145 * nu /1008 + 3085 * nu**2 / 144) * v**4\n",
    "\n",
    "#---------------------------------------------\n",
    "\n",
    "def _Phi_to_c_indef_v(f):\n",
    "    \n",
    "    nu1 = m1 * m2/(m1 + m2)**2\n",
    "    v1 = ((G/c**3) * np.pi * (m1 + m2) * f)**(1/3)\n",
    "    a_v = 1 / 16 * (c ** 3 / (np.pi * G * chirp_mass)) ** (5 / 3)\n",
    "    PN = 0\n",
    "    \n",
    "    return a_v / f ** (5 / 3) * (1 + PN * phasePN(nu1, v1)) # params.PN *"
   ]
  },
  {
   "cell_type": "code",
   "execution_count": 142,
   "id": "d3309d72",
   "metadata": {},
   "outputs": [
    {
     "name": "stdout",
     "output_type": "stream",
     "text": [
      "f_isco_GW: 4.399207791110512\n",
      "f_isco_grid_GW: 4.399207791110512\n"
     ]
    }
   ],
   "source": [
    "# Check the frequencies are ok:\n",
    "\n",
    "freqs = frequency(r_grid)\n",
    "f_isco = frequency(r_isco)\n",
    "\n",
    "print('f_isco_GW:', f_isco)\n",
    "print('f_isco_grid_GW:', freqs[0])"
   ]
  },
  {
   "cell_type": "markdown",
   "id": "0b1e737b",
   "metadata": {},
   "source": [
    "And now that we have already a simple way of expressing the phase from the code in the paper, we do that:"
   ]
  },
  {
   "cell_type": "code",
   "execution_count": 157,
   "id": "a0ae72d4",
   "metadata": {},
   "outputs": [],
   "source": [
    "phase_check_from_code = _Phi_to_c_indef_s(freqs) - _Phi_to_c_indef_s(f_isco)\n",
    "phase_check_from_code_v = _Phi_to_c_indef_v(freqs) - _Phi_to_c_indef_v(f_isco)"
   ]
  },
  {
   "cell_type": "markdown",
   "id": "efb1c59d",
   "metadata": {},
   "source": [
    "---\n",
    "\n",
    "## The effective profile\n",
    "\n",
    "The effective dark matter profile takes into account the fact that the evolution of the binary within the environment results in a depletion of the particles in the proximity of the said profile. This changes locally the configuration of the particles, and the effective dynamic drag experienced by the test mass is different than the static one, more precisely it is less strong.  "
   ]
  },
  {
   "cell_type": "code",
   "execution_count": 144,
   "id": "be5e7d00",
   "metadata": {},
   "outputs": [],
   "source": [
    "def phase_effective_dm(phase_vacuum):\n",
    "    \n",
    "    '''Finds the effective phase from fitting results from HaloFeedback algorithm.'''\n",
    "    \n",
    "    freqs = frequency(r_grid)\n",
    "    \n",
    "    # Constants conbinations:\n",
    "    \n",
    "    gamma_e = 5/2\n",
    "    \n",
    "    theta = 5 / (2 * gamma_e)\n",
    "    \n",
    "    c_f = 5 * c**5 / (8 * m1**2) * np.pi**(2 * (gammas - 4) / 3) * G**(- (2 + gammas)/3) * M_tot**((1 - gammas) / 3) *\\\n",
    "    r_sp**(gammas) * epsv * rho_sp * logL\n",
    "    \n",
    "    f_eq = c_f**(3 / (11 - 2 * gammas))\n",
    "    \n",
    "    lambda_ = (11 - 2 * (gammas + gamma_e)) / 3\n",
    "    \n",
    "    # Fit result:\n",
    "    \n",
    "    f_b = 0.8163 * (m1 / (1000 * m_sun))**(-1.4412) * (m2 / m_sun)**(0.4511) * (1 - 0.4971 * np.log(gammas / 1.4396))\n",
    "    \n",
    "    # Final elements:\n",
    "    \n",
    "    eta = (5 + 2 * gamma_e) / (2 * (8 - gammas)) * (f_eq / f_b)**((11 - 2 * gammas) / 3)\n",
    "    \n",
    "    f_t = f_b\n",
    "    \n",
    "    y = freqs / f_t\n",
    "    \n",
    "    # Gaussian geometric from scipy\n",
    "    \n",
    "    gauss_hypergeom = hyp2f1(1, theta, 1 + theta, - y**(-5/(3 * theta)))\n",
    "    \n",
    "    return phase_vacuum * (1 - eta * y**(-lambda_) * (1 - gauss_hypergeom))"
   ]
  },
  {
   "cell_type": "markdown",
   "id": "704657e5",
   "metadata": {},
   "source": [
    "# Data analysis"
   ]
  },
  {
   "cell_type": "code",
   "execution_count": 159,
   "id": "2e9c8842",
   "metadata": {},
   "outputs": [],
   "source": [
    "# Find derivatives you need for std phi(f)\n",
    "\n",
    "df_dr_s = df_dr(r_grid)"
   ]
  },
  {
   "cell_type": "code",
   "execution_count": 160,
   "id": "6c6b6233",
   "metadata": {},
   "outputs": [
    {
     "name": "stdout",
     "output_type": "stream",
     "text": [
      "Include the dark matter contribution? (y/n)\n",
      "y\n",
      "Include the GW contribution? (y/n)\n",
      "y\n"
     ]
    }
   ],
   "source": [
    "# Find dot_r contributions for each env\n",
    "\n",
    "dot_r_dm = find_dot_r_dm(r_grid)"
   ]
  },
  {
   "cell_type": "code",
   "execution_count": 161,
   "id": "b744a2a6",
   "metadata": {},
   "outputs": [
    {
     "name": "stdout",
     "output_type": "stream",
     "text": [
      "Include the dark matter contribution? (y/n)\n",
      "n\n",
      "Include the GW contribution? (y/n)\n",
      "y\n"
     ]
    }
   ],
   "source": [
    "dot_r_gw = find_dot_r_dm(r_grid)"
   ]
  },
  {
   "cell_type": "markdown",
   "id": "ebfce110",
   "metadata": {},
   "source": [
    "### Phase to coalescence"
   ]
  },
  {
   "cell_type": "code",
   "execution_count": 162,
   "id": "5aaf5267",
   "metadata": {},
   "outputs": [],
   "source": [
    "# Find phase: case 1) static, case 2) effective\n",
    "\n",
    "# 1)\n",
    "df_dt_dm = df_dt(r_grid, dot_r_dm)\n",
    "df_dt_gw = df_dt(r_grid, dot_r_gw)\n",
    "\n",
    "phi_dm_bh = phase_f_by_hand(df_dt_dm)\n",
    "phi_gw_bh = phase_f_by_hand(df_dt_gw)\n",
    "\n",
    "#2)\n",
    "phi_dm_effective = phase_effective_dm(phi_gw_bh) "
   ]
  },
  {
   "cell_type": "code",
   "execution_count": 163,
   "id": "397c060d",
   "metadata": {},
   "outputs": [],
   "source": [
    "# Open pickle file from Pippa, check consistency\n",
    "#freqs_check = np.linspace(1e-2, f_isco, 500)\n",
    "#phase = pd.read_pickle(r'static_phase_to_c.pickle')"
   ]
  },
  {
   "cell_type": "code",
   "execution_count": 164,
   "id": "874d3ff2",
   "metadata": {},
   "outputs": [
    {
     "data": {
      "text/plain": [
       "array([  0.        ,  -0.0485967 ,  -0.09689535, ..., -33.4069027 ,\n",
       "       -33.4069027 , -33.40690267])"
      ]
     },
     "execution_count": 164,
     "metadata": {},
     "output_type": "execute_result"
    }
   ],
   "source": [
    "phase_check_from_code + phi_dm_bh"
   ]
  },
  {
   "cell_type": "code",
   "execution_count": 151,
   "id": "b0fa9ba8",
   "metadata": {},
   "outputs": [
    {
     "data": {
      "text/plain": [
       "array([-7.44779933e-07, -7.22090902e-07, -7.00357885e-07, ...,\n",
       "       -1.35860186e-14, -1.35856792e-14, -1.35853399e-14])"
      ]
     },
     "execution_count": 151,
     "metadata": {},
     "output_type": "execute_result"
    }
   ],
   "source": [
    "df_dr(r_grid)"
   ]
  },
  {
   "cell_type": "code",
   "execution_count": 165,
   "id": "e5bbb08f",
   "metadata": {},
   "outputs": [
    {
     "data": {
      "text/plain": [
       "array([-1.77833905e+04, -1.71352875e+04, -1.65182989e+04, ...,\n",
       "       -4.79113330e-01, -4.79114128e-01, -4.79114925e-01])"
      ]
     },
     "execution_count": 165,
     "metadata": {},
     "output_type": "execute_result"
    }
   ],
   "source": [
    "dot_r_dm"
   ]
  },
  {
   "cell_type": "code",
   "execution_count": 153,
   "id": "9746b7ea",
   "metadata": {},
   "outputs": [
    {
     "data": {
      "image/png": "[encoded data removed]",
      "text/plain": [
       "<Figure size 1200x1000 with 2 Axes>"
      ]
     },
     "metadata": {},
     "output_type": "display_data"
    }
   ],
   "source": [
    "# Plot\n",
    "fig, axs = plt.subplots(2, 1, figsize=(12,10))\n",
    "\n",
    "plt.suptitle('Contributions to $\\Phi_c(f)$', fontsize=14)\n",
    "\n",
    "\n",
    "axs[0].loglog(freqs, -phi_dm_bh, c='cornflowerblue', linestyle='-', label='DM')\n",
    "axs[0].loglog(freqs, phase_check_from_code, label='phase_check', linestyle='--', c='navy');\n",
    "#axs[0].loglog(freqs_check, phase, c='royalblue', linestyle='--', label='DM from Philippa')\n",
    "axs[0].set_xlabel('$f$ [Hz]', fontsize=10)  \n",
    "axs[0].set_ylabel(r'$\\Phi_c$', fontsize=10) \n",
    "axs[0].tick_params(axis='x', labelsize=12)  \n",
    "axs[0].tick_params(axis='y', labelsize=12)  \n",
    "axs[0].grid(True) \n",
    "axs[0].legend()  \n",
    "\n",
    "axs[1].loglog(freqs, -phi_gw_bh, c='palegreen', linestyle='-', label='Vacuum')\n",
    "axs[1].loglog(freqs, -phi_dm_effective, c='darkolivegreen', linestyle='-', label='Effective dm+vacuum')\n",
    "axs[1].loglog(freqs, phase_check_from_code_v, label='phase_check', linestyle='--', c='forestgreen');\n",
    "axs[1].set_xlabel('$f$ [Hz]', fontsize=10) \n",
    "axs[1].set_ylabel(r'$\\Phi_c$', fontsize=10) \n",
    "axs[1].tick_params(axis='x', labelsize=12) \n",
    "axs[1].tick_params(axis='y', labelsize=12) \n",
    "axs[1].grid(True) \n",
    "axs[1].legend() \n",
    "\n",
    "#plt.savefig('results-images/phases_dm.png')\n",
    "plt.show()"
   ]
  },
  {
   "cell_type": "markdown",
   "id": "6af20011",
   "metadata": {},
   "source": [
    "### Dephasing\n",
    "\n",
    "Different versions: \n",
    "    \n",
    "- Vacuum: $\\Delta\\Phi(f) = (\\Phi_{env}(f) - \\Phi_{GW}(f)) / 2\\pi$; \n",
    "- Environment i vs j: $\\Delta\\Phi(f) = (\\Phi_{env, i}(f) - \\Phi_{env, j}(f)) / 2\\pi$;"
   ]
  },
  {
   "cell_type": "code",
   "execution_count": 27,
   "id": "d0c41cdd",
   "metadata": {},
   "outputs": [],
   "source": [
    "# Load the check with paper's results (https://arxiv.org/pdf/2002.12811.pdf)\n",
    "\n",
    "# static\n",
    "\n",
    "data_check_f_static = [0.009526807029019828 ,\n",
    "0.023546687741918298 ,\n",
    "0.054555947811685254 ,\n",
    "0.10581845187471557  ,\n",
    "0.32793628590208834  ,\n",
    "0.636075652236592    ,\n",
    "1.233752569512859    ,\n",
    "2.003338724289298]\n",
    "\n",
    "data_check_phi_static = [73359357.15345764,\n",
    " 5956529.827473827,\n",
    " 340266.6584782468,\n",
    " 29526.438189399316,\n",
    " 416.700163491837,\n",
    " 33.70997904099187,\n",
    " 2.7270512145272456,\n",
    " 0.4436302031743549]\n",
    "\n",
    "\n",
    "\n",
    "# effective\n",
    "\n",
    "data_check_f = [0.006895987907029673, \n",
    "                0.03762171563659231, \n",
    "                0.1636948769202407, \n",
    "                0.49116574461187135, \n",
    "                1.2742749857031348, \n",
    "                2.9524016447543264,   \n",
    "                4.212708446819448,   \n",
    "0.01546940765246201]\n",
    "\n",
    "data_check_phi = [880109.0120801813, \n",
    "                  23550.550789353365, \n",
    "                  891.7719485147651,\n",
    "                  44.4504370321179,\n",
    "                  2.0610077045538233,\n",
    "                  0.07206223392181468,\n",
    "                  0.003809526150404238,\n",
    "                  165544.7104557622]"
   ]
  },
  {
   "cell_type": "code",
   "execution_count": 28,
   "id": "e8399abd",
   "metadata": {},
   "outputs": [],
   "source": [
    "# Open pickle file from Pippa, check consistency\n",
    "\n",
    "dephase = pd.read_pickle(r'static_dephase.pickle')"
   ]
  },
  {
   "cell_type": "code",
   "execution_count": 29,
   "id": "2b053351",
   "metadata": {},
   "outputs": [],
   "source": [
    "# Define effective params \n",
    "\n",
    "c_f = 5 * c**5 / (8 * m1**2) * np.pi**(2 * (gammas - 4) / 3) * G**(- (2 + gammas)/3) * M_tot**((1 - gammas) / 3) * r_sp**(gammas) * epsv * rho_sp * logL\n",
    "f_eq = c_f**(3 / (11 - 2 * gammas))\n",
    "f_b = 0.8163 * (m1 / (1000 * m_sun))**(1.4412) * (m2 / m_sun)**(0.4511) * (1 - 0.4971 * np.log(gammas / 1.4396))"
   ]
  },
  {
   "cell_type": "code",
   "execution_count": 30,
   "id": "b083d551",
   "metadata": {},
   "outputs": [
    {
     "data": {
      "image/png": "[encoded data removed]",
      "text/plain": [
       "<Figure size 800x600 with 1 Axes>"
      ]
     },
     "metadata": {},
     "output_type": "display_data"
    }
   ],
   "source": [
    "# Plot\n",
    "plt.figure(figsize=(8, 6))\n",
    "\n",
    "plt.loglog(freqs, (+phi_dm_bh - phi_gw_bh)/(2 * np.pi), c='lightcoral', label='numerical DM halo', linestyle='-')\n",
    "plt.loglog(freqs, (-phase_check_from_code + phase_check_from_code_v)/(2 * np.pi), c='royalblue', label='dephasing_check', linestyle='--')\n",
    "plt.loglog(freqs_check, dephase, c='darkslategrey', linestyle='--', label='static dephase from Philippa')\n",
    "plt.loglog(freqs, (phi_dm_effective - phi_gw_bh)/(2 * np.pi), c='limegreen', label='effective DM halo')\n",
    "plt.xlabel('$f$ [1/s]', fontsize=14) \n",
    "plt.ylabel(r'$\\Delta\\Phi$', fontsize=14)  \n",
    "plt.xticks(fontsize=10)  \n",
    "plt.yticks(fontsize=10) \n",
    "plt.grid(True)\n",
    "plt.tick_params(axis='y', which='minor')\n",
    "plt.legend(fontsize='medium')\n",
    "\n",
    "plt.savefig('results-images/test_dm_static.png')\n",
    "plt.show()"
   ]
  }
 ],
 "metadata": {
  "kernelspec": {
   "display_name": "Python 3 (ipykernel)",
   "language": "python",
   "name": "python3"
  },
  "language_info": {
   "codemirror_mode": {
    "name": "ipython",
    "version": 3
   },
   "file_extension": ".py",
   "mimetype": "text/x-python",
   "name": "python",
   "nbconvert_exporter": "python",
   "pygments_lexer": "ipython3",
   "version": "3.10.10"
  }
 },
 "nbformat": 4,
 "nbformat_minor": 5
}
