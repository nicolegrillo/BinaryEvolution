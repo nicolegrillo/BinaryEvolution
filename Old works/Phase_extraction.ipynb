{
 "cells": [
  {
   "cell_type": "markdown",
   "id": "ae4b98eb",
   "metadata": {},
   "source": [
    "# Section 1: binary phase evaluation (fixed parameters)\n",
    "\n",
    "We model a binary system embedded in an accretion disk, along with a dark matter spike and gravitational waves emission.\n",
    "The goal for our modelization is to produce an estimate of the following quantity: \n",
    "\n",
    "\\begin{equation}\n",
    "    \\dot{r} = \\dot{r}_{\\mathrm{gas}} + \\dot{r}_{\\mathrm{DF}} + \\dot{r}_{\\mathrm{GW}}\\text{,}\n",
    "\\end{equation}\n",
    "\n",
    "where $\\dot{r}_\\mathrm{gas}$ is the contribution coming from gas torques from the accretion disk surrounding the binary, $\\dot{r}_\\mathrm{DF}$ is the effect of dynamical friction from the presence of the dark matter spike, and $\\dot{r}_\\mathrm{GW}$ is the contribution from the gravitational waves emission. Specifically, we adopt the classical Newtonian formalism, computing the results from the reduced mass-system, and in case assuming that $m_1 \\gg m_2$.\n",
    "\n",
    "Once the shape of $\\dot{r}$ is clear, one can evaluate the phase of the binary system from a generic $f$-frequency to the $f_{\\mathrm{isco}}$-frequency. Assuming circular orbits the frequency is:\n",
    "\n",
    "\\begin{equation}\n",
    "    f = \\frac{1}{\\pi} \\sqrt{\\frac{G(m_1 + m_2)}{r^3}}\\text{.}\n",
    "\\end{equation}\n",
    "\n",
    "We can evaluate $\\Phi(f)$ as: \n",
    "\n",
    "\\begin{equation}\n",
    "    \\Phi(f) = 2\\pi \\int_{f}^{f_{\\mathrm{isco}}} \\frac{dt}{df'} f' df'\\text{,}\n",
    "\\end{equation}\n",
    "\n",
    "where the relation $\\frac{dt}{df'}$ is extracted directly from the expression in the above equation by the following chain rule: $\\frac{dr}{dt} \\frac{df}{dr} = \\frac{df}{dt}$. \n",
    "\n",
    "### Note!\n",
    "\n",
    "If we already integrate on the grid that starts from $\\textit{isco}$ we are subtracting the $\\Phi(f_{\\mathrm{isco}}) = \\int_{f_{\\mathrm{isco}}}^{f_{\\mathrm{isco}}} \\frac{dt}{df} f' df' = 0$ to the phase $\\Phi(f)$."
   ]
  },
  {
   "cell_type": "markdown",
   "id": "0bf5d43d",
   "metadata": {},
   "source": [
    "## Expressions for the $\\dot{r}_i$ contributions\n",
    "\n",
    "- Accretion disk's torques: \n",
    "\n",
    "\\begin{equation}\n",
    "    \\dot{r}_\\mathrm{gas} = - 2 \\Sigma_0 \\frac{r^{\\gamma + 3/2}}{r_0^\\gamma} \\frac{G^{1/2} (m_1 + m_2)^{1/2}}{\\mu} q^{2} \\mathcal{M}^2\\text{.}\n",
    "\\end{equation}\n",
    "\n",
    "- Dark matter spike's dynamical friction:\n",
    "\n",
    "Static:\n",
    "\n",
    "\\begin{equation}\n",
    "\\label{eq:r_dot_DF}\n",
    "    \\dot{r}_{\\mathrm{DF}} = - \\frac{8 \\pi G^{\\frac{1}{2}} \\mu \\log{(\\Lambda)} \\rho_6 r_6^{\\gamma_s} \\xi(v)}{r^{\\gamma_s - \\frac{5}{2}}(m_1 + m_2)^{\\frac{3}{2}}}\\text{,}\n",
    "\\end{equation}\n",
    "\n",
    "- Gravitational waves: \n",
    "\n",
    "\\begin{equation}\n",
    "\\label{eq:r_dot_gw}\n",
    "    \\dot{r}_{\\mathrm{GW}} = - \\frac{64 (m_1 + m_2) G^3 m_1 m_2}{5 c^5 r^3}\\text{.}\n",
    "\\end{equation}\n",
    "\n",
    "In the code, there will be enabled the possibility to choose which of these options to keep in the final formula, which will account for the sum of all the contributions the user requires. \n",
    "\n",
    "## Formulas to use and implement \"in code\" for the phase evaluation\n",
    "\n",
    "I used the following quantities: \n",
    "\n",
    "- Derivative of f in radial separation:\n",
    "\n",
    "\\begin{equation}\n",
    "\\label{eq:dfdr}\n",
    "    \\frac{df}{dr} = \\frac{1}{\\pi} (-\\frac{3}{2}) \\sqrt{\\frac{G (m_1 + m_2)}{r^5}}\\text{.}\\\\\n",
    "\\end{equation}\n",
    "\n",
    "\n",
    "- Inverse of f(r):\n",
    "\n",
    "\\begin{equation}\n",
    "\\label{eq:r(f)}\n",
    "    r(f) = \\sqrt[3]{\\frac{G (m_1 + m_2)}{\\pi^2 f^2}}\\text{,}\\\\\n",
    "\\end{equation}\n",
    "\n",
    "- Derivative of f in time:\n",
    "\n",
    "\\begin{equation}\n",
    "\\label{eq:dfdt}\n",
    "    \\frac{df}{dt} = \\dot{r} \\frac{df}{dr}\\text{,}\\\\\n",
    "\\end{equation}\n",
    "\n",
    "- Second derivative of the phase in time:\n",
    "\n",
    "\\begin{equation}\n",
    "\\label{eq:phi_dot-dot}\n",
    "    \\ddot{\\Phi}(f) = 4 \\pi^2 f \\left(\\frac{d\\Phi(f)}{df}\\right)^{-1} \n",
    "\\end{equation}"
   ]
  },
  {
   "cell_type": "markdown",
   "id": "17f491ab",
   "metadata": {},
   "source": [
    "# Code implementation\n",
    "\n",
    "### Libraries and constants"
   ]
  },
  {
   "cell_type": "code",
   "execution_count": 1,
   "id": "c4d3dcb0",
   "metadata": {},
   "outputs": [],
   "source": [
    "import numpy as np\n",
    "import matplotlib.pyplot as plt\n",
    "from matplotlib.ticker import ScalarFormatter\n",
    "import scipy as sp\n",
    "from scipy.integrate import quad \n",
    "import pandas as pd"
   ]
  },
  {
   "cell_type": "code",
   "execution_count": 2,
   "id": "222e10dd",
   "metadata": {},
   "outputs": [],
   "source": [
    "# Define some constants: \n",
    "\n",
    "G = 6.67408e-11 # kg^-1 m^3 / s^2\n",
    "c = 299792458.0 # m / s\n",
    "pc = 3.08567758149137e16 # m\n",
    "m_sun = 1.98855e30 # kg"
   ]
  },
  {
   "cell_type": "code",
   "execution_count": 3,
   "id": "f1b35c26",
   "metadata": {},
   "outputs": [],
   "source": [
    "# Fix parameters:\n",
    "\n",
    "m1 = 1e5 * m_sun #1.4e3 * m_sun\n",
    "m2 = 10 * m_sun #1.4 * m_sun\n",
    "q = m2/m1\n",
    "M_tot = m1 + m2\n",
    "mu = m1 * m2 / M_tot\n",
    "chirp_mass = (m1 * m2)**(3/5) / (M_tot)**(1/5)"
   ]
  },
  {
   "cell_type": "code",
   "execution_count": 4,
   "id": "bb4d88b2",
   "metadata": {},
   "outputs": [],
   "source": [
    "# Fix environments\n",
    "\n",
    "# Spike: \n",
    "\n",
    "rho6 = 1.17 * 10**17 * m_sun / (pc)**3\n",
    "r6 =  pc * 10**(-6)\n",
    "gammas = 7/3\n",
    "epsv = 0.58\n",
    "logL = 1 / q**(1/2)\n",
    "\n",
    "# Accretion disk: \n",
    "\n",
    "r_s = 2 * G * m1 / c**2 # Schwartzschild radius of m1\n",
    "r0 = 3 * r_s\n",
    "Mach = 100 \n",
    "sigma0 = 1.5 * 10**10 / Mach**2\n",
    "alpha = -1/2\n",
    "\n",
    "\n",
    "r_isco = 6 * m1 * G / c**2 # of central bh"
   ]
  },
  {
   "cell_type": "markdown",
   "id": "5161addd",
   "metadata": {},
   "source": [
    "### Base functions $\\rightarrow$ find phase $\\Phi(f)$ "
   ]
  },
  {
   "cell_type": "code",
   "execution_count": 5,
   "id": "bc4fa6be",
   "metadata": {},
   "outputs": [],
   "source": [
    "def rho_dm(r):\n",
    "    \n",
    "    '''Finds the density profile of the dark matter using the above formulation.'''\n",
    "    \n",
    "    return rho6 * (r6 / r)**(gammas)"
   ]
  },
  {
   "cell_type": "code",
   "execution_count": 6,
   "id": "385030fd",
   "metadata": {},
   "outputs": [],
   "source": [
    "def sigma_acc(r): \n",
    "    \n",
    "    '''Computes the accretion disk surface density.'''\n",
    "    \n",
    "    return sigma0 * (r / r0)**(alpha)"
   ]
  },
  {
   "cell_type": "code",
   "execution_count": 7,
   "id": "dd4e93fe",
   "metadata": {},
   "outputs": [],
   "source": [
    "def rho_disk(r):\n",
    "    \n",
    "    '''Finds the density profile of the disk using \\rho \\simeq \\Sigma(r)/(2h), where h = r / Mach.'''\n",
    "    \n",
    "    return sigma0 * (r / r0)**(alpha) / (2 * r / Mach) # set h = r / Mach"
   ]
  },
  {
   "cell_type": "code",
   "execution_count": 8,
   "id": "f47383a9",
   "metadata": {},
   "outputs": [],
   "source": [
    "def frequency(r):\n",
    "        \n",
    "    '''Finds the binary frequency assuming circular orbits, at fixed radius r.'''\n",
    "        \n",
    "    return 1 / np.pi * np.sqrt(G * m1 / r**3)"
   ]
  },
  {
   "cell_type": "code",
   "execution_count": 9,
   "id": "ed4b3551",
   "metadata": {},
   "outputs": [],
   "source": [
    "def binary_separation(f):\n",
    "        \n",
    "    '''Finds the binary frequency assuming circular orbits, at fixed radius r.'''\n",
    "        \n",
    "    return (G * m1 / (f**2 * np.pi**2))**(1/3)"
   ]
  },
  {
   "cell_type": "code",
   "execution_count": 10,
   "id": "914499f8",
   "metadata": {},
   "outputs": [],
   "source": [
    "def df_dr(r): \n",
    "    \n",
    "    '''Finds the binary frequency radial derivative assuming circular orbits.'''\n",
    "        \n",
    "    return 1 / np.pi * (- 3 / 2) * np.sqrt(G * M_tot / r**5)"
   ]
  },
  {
   "cell_type": "code",
   "execution_count": 11,
   "id": "fb3c9d31",
   "metadata": {},
   "outputs": [],
   "source": [
    "def df_dt(r, dot_r): \n",
    "    \n",
    "    '''Finds the binary frequency time derivative.'''\n",
    "    \n",
    "    return df_dr(r) * dot_r"
   ]
  },
  {
   "cell_type": "code",
   "execution_count": 12,
   "id": "36d2e624",
   "metadata": {},
   "outputs": [],
   "source": [
    "def gas_torque(r): \n",
    "    \n",
    "    '''Computes the accretion gas torque on the mass, in the migration type I regime.'''\n",
    "    \n",
    "    return - sigma_acc(r) * r**4 * (G * M_tot / r**3) * q**2 * Mach**2"
   ]
  },
  {
   "cell_type": "code",
   "execution_count": 13,
   "id": "43c2db8d",
   "metadata": {},
   "outputs": [],
   "source": [
    "def yes_or_no(elem):\n",
    "    \n",
    "    '''Checks whether you want a contribution or not. (could be made boolean directly)'''\n",
    "        \n",
    "    if elem=='y': \n",
    "        \n",
    "        return 1\n",
    "    \n",
    "    return 0"
   ]
  },
  {
   "cell_type": "code",
   "execution_count": 14,
   "id": "4a76a49a",
   "metadata": {},
   "outputs": [],
   "source": [
    "def dot_r(r):\n",
    "    \n",
    "    '''Find the binary change in separation over time, asking the user to choose which contribution to keep.'''\n",
    "        \n",
    "    acc = ''\n",
    "    dm = ''\n",
    "    gw = ''\n",
    "    \n",
    "    \n",
    "    while(acc != 'y' and acc != 'n'):\n",
    "        print('Include the accretion contribution? (y/n)')\n",
    "        acc = input()\n",
    "    \n",
    "    while(dm != 'y' and dm != 'n'):\n",
    "        print('Include the dark matter contribution? (y/n)')\n",
    "        dm = input()\n",
    "    \n",
    "    while(gw != 'y' and gw != 'n'):\n",
    "        print('Include the GW contribution? (y/n)')\n",
    "        gw = input()\n",
    "    \n",
    "    r_dot_acc = 0.5 * gas_torque(r) * m2**(-1) * r**(1/2) * (G * M_tot)**(-1/2)\n",
    "    \n",
    "    r_dot_dm = - 8 * np.pi * G**(1/2) * m2 * logL * rho6 * r6**(gammas) * epsv / (r**(gammas - 5/2) * m1 * M_tot**(1/2)) #* r**(5/2)\n",
    "    \n",
    "    r_dot_gw = - 64 * M_tot * G**3 * m1 * m2 / (5 * c**5 * r**3)\n",
    "    \n",
    "    \n",
    "    return yes_or_no(acc) * r_dot_acc + yes_or_no(dm) * r_dot_dm + yes_or_no(gw) * r_dot_gw"
   ]
  },
  {
   "cell_type": "code",
   "execution_count": 15,
   "id": "af1b000c",
   "metadata": {},
   "outputs": [],
   "source": [
    "def phase_f_by_hand(df_dt): \n",
    "    \n",
    "    '''Finds the binary phase as a function of frequency.'''\n",
    "    \n",
    "    freqs = frequency(r_grid)\n",
    "    to_integrate = 2 * np.pi * df_dt**(-1) * freqs \n",
    "    phase_f = []\n",
    "    \n",
    "    for b in freqs:  # range of values for the lower limit\n",
    "        \n",
    "        # Select the appropriate range of f values for integration\n",
    "        f_range = freqs[freqs >= b]\n",
    "        \n",
    "        phase_f.append(np.trapz(to_integrate[:len(f_range)], x=f_range))\n",
    "\n",
    "    return np.array(phase_f)"
   ]
  },
  {
   "cell_type": "code",
   "execution_count": 16,
   "id": "de257973",
   "metadata": {},
   "outputs": [],
   "source": [
    "def phase_f(df_dt): \n",
    "    \n",
    "    '''Finds the binary phase as a function of frequency'''\n",
    "    \n",
    "    freqs = frequency(r_grid)\n",
    "    to_integrate = 2 * np.pi * df_dt**(-1) * freqs \n",
    "    phase = sp.integrate.cumulative_trapezoid(to_integrate, freqs)\n",
    "    \n",
    "    return np.array(phase)"
   ]
  },
  {
   "cell_type": "code",
   "execution_count": 17,
   "id": "d983f0be",
   "metadata": {},
   "outputs": [],
   "source": [
    "def ddot_phase_f(df_dt): \n",
    "    \n",
    "    '''Finds the binary second derivative phase as a function of frequency, using the equations above.'''\n",
    "    \n",
    "    return 2 * np.pi * df_dt"
   ]
  },
  {
   "cell_type": "code",
   "execution_count": 18,
   "id": "b1c44a52",
   "metadata": {},
   "outputs": [],
   "source": [
    "def h_0(f, ddot_phase):\n",
    "    \n",
    "    '''Finds the strain as a function of frequency, and \\ddot{\\Phi}'''\n",
    "    \n",
    "    return 1/2 * 4 * np.pi**(2/3) * G**(5/3) * chirp_mass**(5/3) * f**(2/3) / c**4 * (2 * np.pi / ddot_phase)**(1/2) / (4 * 10**9 * pc)"
   ]
  },
  {
   "cell_type": "markdown",
   "id": "8c221ec6",
   "metadata": {},
   "source": [
    "### Domain of the problem\n",
    "\n",
    "We define the domain of the problem setting the grid that's based on LISA's sensitivity (minimum treshold). "
   ]
  },
  {
   "cell_type": "code",
   "execution_count": 19,
   "id": "de231fa8",
   "metadata": {},
   "outputs": [],
   "source": [
    "f_LISA = 1e-3 # Hz\n",
    "\n",
    "r_max = binary_separation(f_LISA)\n",
    "\n",
    "# set grid of radial distances\n",
    "r_grid = np.linspace(r_isco, r_max, 10000)"
   ]
  },
  {
   "cell_type": "markdown",
   "id": "dff6de2f",
   "metadata": {},
   "source": [
    "### Density profiles"
   ]
  },
  {
   "cell_type": "code",
   "execution_count": 20,
   "id": "0f5bb179",
   "metadata": {},
   "outputs": [
    {
     "data": {
      "image/png": "[encoded data removed]",
      "text/plain": [
       "<Figure size 600x400 with 1 Axes>"
      ]
     },
     "metadata": {},
     "output_type": "display_data"
    }
   ],
   "source": [
    "# Plot\n",
    "plt.figure(figsize=(6, 4))\n",
    "\n",
    "plt.semilogy(r_grid/r_isco, rho_dm(r_grid), c='lightcoral', linestyle='-', label='dark matter spike')\n",
    "plt.semilogy(r_grid/r_isco, rho_disk(r_grid), c='orange', linestyle='-', label='accretion disk')\n",
    "plt.axvline(x=1, c='red', label='$r_{\\mathrm{isco}}$', linestyle='-.', linewidth=1)\n",
    "plt.xlabel('$r/r_{\\mathrm{isco}}$', fontsize=10)  \n",
    "plt.ylabel(r'$\\rho$ [kg / m$^3$]', fontsize=10)  \n",
    "plt.xticks(fontsize=10)  \n",
    "plt.yticks(fontsize=10)  \n",
    "plt.title(r'$\\rho$(r) for different environments', fontsize=12)\n",
    "plt.grid(True)  \n",
    "plt.legend(fontsize='large')  \n",
    "plt.show()"
   ]
  },
  {
   "cell_type": "code",
   "execution_count": 21,
   "id": "3493c028",
   "metadata": {},
   "outputs": [
    {
     "name": "stdout",
     "output_type": "stream",
     "text": [
      "f_isco: 0.04397009835544325\n",
      "f_isco_grid: 0.04397009835544325\n"
     ]
    }
   ],
   "source": [
    "# Check the frequencies are ok:\n",
    "\n",
    "freqs = frequency(r_grid)\n",
    "f_isco = frequency(r_isco)\n",
    "\n",
    "print('f_isco:', f_isco)\n",
    "print('f_isco_grid:', freqs[0])"
   ]
  },
  {
   "cell_type": "markdown",
   "id": "a06edb47",
   "metadata": {},
   "source": [
    "### Phase to coalescence"
   ]
  },
  {
   "cell_type": "code",
   "execution_count": 22,
   "id": "2e9c8842",
   "metadata": {},
   "outputs": [],
   "source": [
    "df_dr_s = df_dr(r_grid)"
   ]
  },
  {
   "cell_type": "code",
   "execution_count": 23,
   "id": "4b848eeb",
   "metadata": {},
   "outputs": [
    {
     "name": "stdout",
     "output_type": "stream",
     "text": [
      "Include the accretion contribution? (y/n)\n",
      "y\n",
      "Include the dark matter contribution? (y/n)\n",
      "y\n",
      "Include the GW contribution? (y/n)\n",
      "y\n"
     ]
    }
   ],
   "source": [
    "dot_r_all = dot_r(r_grid)"
   ]
  },
  {
   "cell_type": "code",
   "execution_count": 24,
   "id": "1d3007d8",
   "metadata": {},
   "outputs": [
    {
     "name": "stdout",
     "output_type": "stream",
     "text": [
      "Include the accretion contribution? (y/n)\n",
      "y\n",
      "Include the dark matter contribution? (y/n)\n",
      "n\n",
      "Include the GW contribution? (y/n)\n",
      "y\n"
     ]
    }
   ],
   "source": [
    "dot_r_acc = dot_r(r_grid)"
   ]
  },
  {
   "cell_type": "code",
   "execution_count": 25,
   "id": "6c6b6233",
   "metadata": {},
   "outputs": [
    {
     "name": "stdout",
     "output_type": "stream",
     "text": [
      "Include the accretion contribution? (y/n)\n",
      "n\n",
      "Include the dark matter contribution? (y/n)\n",
      "y\n",
      "Include the GW contribution? (y/n)\n",
      "y\n"
     ]
    }
   ],
   "source": [
    "dot_r_dm = dot_r(r_grid)"
   ]
  },
  {
   "cell_type": "code",
   "execution_count": 26,
   "id": "b744a2a6",
   "metadata": {},
   "outputs": [
    {
     "name": "stdout",
     "output_type": "stream",
     "text": [
      "Include the accretion contribution? (y/n)\n",
      "n\n",
      "Include the dark matter contribution? (y/n)\n",
      "n\n",
      "Include the GW contribution? (y/n)\n",
      "y\n"
     ]
    }
   ],
   "source": [
    "dot_r_gw = dot_r(r_grid)"
   ]
  },
  {
   "cell_type": "markdown",
   "id": "1f3ee9bf",
   "metadata": {},
   "source": [
    "### Energy comparison"
   ]
  },
  {
   "cell_type": "code",
   "execution_count": 27,
   "id": "eaa7cd96",
   "metadata": {},
   "outputs": [
    {
     "data": {
      "image/png": "[encoded data removed]",
      "text/plain": [
       "<Figure size 640x480 with 1 Axes>"
      ]
     },
     "metadata": {},
     "output_type": "display_data"
    }
   ],
   "source": [
    "plt.semilogy(r_grid/r_isco, dot_r_dm/dot_r_gw, c='green', label='DM')\n",
    "plt.semilogy(r_grid/r_isco, dot_r_acc/dot_r_gw, c='royalblue', label='Accretion')\n",
    "plt.title(\"$\\dot{E}_i / \\dot{E}_{GW}$\")\n",
    "plt.ylabel(\"$\\dot{E}_i / \\dot{E}_{GW}$\")\n",
    "plt.xlabel(\"$r/r_{\\mathrm{isco}}$\")\n",
    "plt.legend();"
   ]
  },
  {
   "cell_type": "code",
   "execution_count": 28,
   "id": "5aaf5267",
   "metadata": {},
   "outputs": [],
   "source": [
    "# Find phase for all cases\n",
    "\n",
    "df_dt_all = df_dt(r_grid, dot_r_all)\n",
    "df_dt_acc = df_dt(r_grid, dot_r_acc)\n",
    "df_dt_dm = df_dt(r_grid, dot_r_dm)\n",
    "df_dt_gw = df_dt(r_grid, dot_r_gw)\n",
    "\n",
    "phi_all_bh = phase_f_by_hand(df_dt_all)\n",
    "phi_acc_bh = phase_f_by_hand(df_dt_acc)\n",
    "phi_dm_bh = phase_f_by_hand(df_dt_dm)\n",
    "phi_gw_bh = phase_f_by_hand(df_dt_gw)\n",
    "\n",
    "phi_all = phase_f(df_dt_all)\n",
    "phi_acc = phase_f(df_dt_acc)\n",
    "phi_dm = phase_f(df_dt_dm)\n",
    "phi_gw = phase_f(df_dt_gw)"
   ]
  },
  {
   "cell_type": "markdown",
   "id": "cb8aa4ab",
   "metadata": {},
   "source": [
    "Check correspondance between numerical methods adopted (by-hand vs cum_trapz):"
   ]
  },
  {
   "cell_type": "code",
   "execution_count": 29,
   "id": "9746b7ea",
   "metadata": {},
   "outputs": [
    {
     "data": {
      "image/png": "[encoded data removed]",
      "text/plain": [
       "<Figure size 1200x1000 with 4 Axes>"
      ]
     },
     "metadata": {},
     "output_type": "display_data"
    }
   ],
   "source": [
    "fig, axs = plt.subplots(2, 2, figsize=(12,10))\n",
    "\n",
    "plt.suptitle('Contributions to $\\Phi(f)$', fontsize=14)\n",
    "\n",
    "\n",
    "axs[0, 0].loglog(freqs[:-1]/f_isco, -phi_acc, c='lightblue', linestyle='-', label='Acc-only', linewidth=4)\n",
    "axs[0, 0].loglog(freqs/f_isco, -phi_acc_bh, c='black', linestyle='--', label='Acc-by hand', linewidth=0.5)\n",
    "axs[0, 0].axvline(x=1, c='red', label='$f_{\\mathrm{isco}}$', linestyle='-.', linewidth=1)\n",
    "axs[0, 0].set_xlabel('$f/f_{\\mathrm{isco}}$', fontsize=10)  \n",
    "axs[0, 0].set_ylabel(r'$\\Phi_c$', fontsize=10) \n",
    "axs[0, 0].tick_params(axis='x', labelsize=12)  \n",
    "axs[0, 0].tick_params(axis='y', labelsize=12)  \n",
    "axs[0, 0].grid(True)  \n",
    "axs[0, 0].legend() \n",
    "\n",
    "axs[0, 1].loglog(freqs[:-1]/f_isco, -phi_dm, c='lightgreen', linestyle='-', label='DM only', linewidth=4)\n",
    "axs[0, 1].loglog(freqs/f_isco, -phi_dm_bh, c='black', linestyle='--', label='DM-by hand', linewidth=0.5)\n",
    "axs[0, 1].axvline(x=1, c='red', label='$f_{\\mathrm{isco}}$', linestyle='-.', linewidth=1)\n",
    "axs[0, 1].set_xlabel('$f/f_{\\mathrm{isco}}$', fontsize=10)  \n",
    "axs[0, 1].set_ylabel(r'$\\Phi_c$', fontsize=10) \n",
    "axs[0, 1].tick_params(axis='x', labelsize=12)  \n",
    "axs[0, 1].tick_params(axis='y', labelsize=12)  \n",
    "axs[0, 1].grid(True)  \n",
    "axs[0, 1].legend()  \n",
    "\n",
    "axs[1, 0].loglog(freqs[:-1]/f_isco, -phi_gw, c='pink', linestyle='-', label='GW only', linewidth=4)\n",
    "axs[1, 0].loglog(freqs/f_isco, -phi_gw_bh, c='black', linestyle='--', label='GW-by hand', linewidth=0.5)\n",
    "axs[1, 0].axvline(x=1, c='red', label='$f_{\\mathrm{isco}}$', linestyle='-.', linewidth=1)\n",
    "axs[1, 0].set_xlabel('$f/f_{\\mathrm{isco}}$', fontsize=10)  \n",
    "axs[1, 0].set_ylabel(r'$\\Phi_c$', fontsize=10)\n",
    "axs[1, 0].tick_params(axis='x', labelsize=12) \n",
    "axs[1, 0].tick_params(axis='y', labelsize=12) \n",
    "axs[1, 0].grid(True)\n",
    "axs[1, 0].legend()  \n",
    "\n",
    "axs[1, 1].loglog(freqs[:-1]/f_isco, -phi_all, c='orange', linestyle='-', label='Total contribution', linewidth=2)\n",
    "axs[1, 1].loglog(freqs/f_isco, -phi_all_bh, c='black', linestyle='--', label='TC-by hand', linewidth=0.5)\n",
    "axs[1, 1].axvline(x=1, c='red', label='$f_{\\mathrm{isco}}$', linestyle='-.', linewidth=1)\n",
    "axs[1, 1].set_xlabel('$f/f_{\\mathrm{isco}}$', fontsize=10) \n",
    "axs[1, 1].set_ylabel(r'$\\Phi_c$', fontsize=10)\n",
    "axs[1, 1].tick_params(axis='x', labelsize=12) \n",
    "axs[1, 1].tick_params(axis='y', labelsize=12) \n",
    "axs[1, 1].grid(True)  \n",
    "axs[1, 1].legend()  \n",
    "\n",
    "plt.show()"
   ]
  },
  {
   "cell_type": "code",
   "execution_count": 30,
   "id": "fd607be2",
   "metadata": {},
   "outputs": [
    {
     "name": "stdout",
     "output_type": "stream",
     "text": [
      "The variables have been saved successfully.\n"
     ]
    }
   ],
   "source": [
    "import pickle\n",
    "\n",
    "# Step 2: Saving Variables\n",
    "file_path = 'gw_only.pickle'\n",
    "\n",
    "# Open the file in binary mode\n",
    "with open(file_path, 'wb') as file:\n",
    "    # Serialize and write the variable to the file\n",
    "    pickle.dump(-phi_gw_bh, file)\n",
    "    \n",
    "# Step 2: Saving Variables\n",
    "file_path0 = 'phi_accretion.pickle'\n",
    "\n",
    "# Open the file in binary mode\n",
    "with open(file_path0, 'wb') as file:\n",
    "    # Serialize and write the variable to the file\n",
    "    pickle.dump(-phi_acc_bh, file)\n",
    "    \n",
    "#----------------------------------\n",
    "\n",
    "# Step 2: Saving Variables\n",
    "file_path1 = 'r_grid.pickle'\n",
    "\n",
    "# Open the file in binary mode\n",
    "with open(file_path1, 'wb') as file:\n",
    "    # Serialize and write the variable to the file\n",
    "    pickle.dump(r_grid, file)\n",
    "    \n",
    "#----------------------------------\n",
    "    \n",
    "\n",
    "# Step 2: Saving Variables\n",
    "file_path2 = 'dotracc_accretion.pickle'\n",
    "    \n",
    "# Open the file in binary mode\n",
    "with open(file_path2, 'wb') as file:\n",
    "    # Serialize and write the variable to the file\n",
    "    pickle.dump(dot_r_acc, file)\n",
    "    \n",
    "    \n",
    "#----------------------------------\n",
    "\n",
    "# Step 2: Saving Variables\n",
    "file_path3 = 'freqs_accretion.pickle'\n",
    "    \n",
    "# Open the file in binary mode\n",
    "with open(file_path3, 'wb') as file:\n",
    "    # Serialize and write the variable to the file\n",
    "    pickle.dump(freqs, file)\n",
    "    \n",
    "#----------------------------------\n",
    "\n",
    "\n",
    "# Step 2: Saving Variables\n",
    "file_path4 = 'gas_torque.pickle'\n",
    "    \n",
    "# Open the file in binary mode\n",
    "with open(file_path4, 'wb') as file:\n",
    "    # Serialize and write the variable to the file\n",
    "    pickle.dump(gas_torque(r_grid), file)\n",
    "    \n",
    "#----------------------------------\n",
    "\n",
    "# Step 2: Saving Variables\n",
    "file_path5 = 'dfdt.pickle'\n",
    "    \n",
    "# Open the file in binary mode\n",
    "with open(file_path5, 'wb') as file:\n",
    "    # Serialize and write the variable to the file\n",
    "    pickle.dump(df_dt_acc, file)\n",
    "    \n",
    "#–--------------------------------\n",
    "\n",
    "# Step 2: Saving Variables\n",
    "file_path5 = 'dfdr.pickle'\n",
    "    \n",
    "# Open the file in binary mode\n",
    "with open(file_path5, 'wb') as file:\n",
    "    # Serialize and write the variable to the file\n",
    "    pickle.dump(df_dr_s, file)\n",
    "\n",
    "print(\"The variables have been saved successfully.\")"
   ]
  },
  {
   "cell_type": "code",
   "execution_count": null,
   "id": "78a998ec",
   "metadata": {},
   "outputs": [],
   "source": [
    "r0"
   ]
  },
  {
   "cell_type": "code",
   "execution_count": null,
   "id": "8a7f5c0d",
   "metadata": {},
   "outputs": [],
   "source": []
  },
  {
   "cell_type": "code",
   "execution_count": null,
   "id": "d77499e2",
   "metadata": {},
   "outputs": [],
   "source": []
  },
  {
   "cell_type": "code",
   "execution_count": null,
   "id": "472fe1a9",
   "metadata": {},
   "outputs": [],
   "source": []
  },
  {
   "cell_type": "code",
   "execution_count": null,
   "id": "e40f7168",
   "metadata": {},
   "outputs": [],
   "source": []
  },
  {
   "cell_type": "code",
   "execution_count": null,
   "id": "106517b7",
   "metadata": {},
   "outputs": [],
   "source": []
  },
  {
   "cell_type": "code",
   "execution_count": null,
   "id": "f29fdc5e",
   "metadata": {},
   "outputs": [],
   "source": []
  },
  {
   "cell_type": "code",
   "execution_count": null,
   "id": "7ca30afc",
   "metadata": {},
   "outputs": [],
   "source": []
  },
  {
   "cell_type": "markdown",
   "id": "df24f601",
   "metadata": {},
   "source": [
    "See them in a single plot:"
   ]
  },
  {
   "cell_type": "code",
   "execution_count": null,
   "id": "e365e899",
   "metadata": {},
   "outputs": [],
   "source": [
    "# Plot\n",
    "plt.figure(figsize=(8, 6))\n",
    "\n",
    "plt.loglog(freqs, -phi_gw_bh, c='hotpink', label='GW only', linewidth=1, linestyle='--')\n",
    "plt.loglog(freqs, -phi_acc_bh, c='deepskyblue', label='Acc-only', linewidth=1, linestyle='--')\n",
    "plt.loglog(freqs, -phi_dm_bh, c='limegreen', label='DM-only', linewidth=1, linestyle='--')\n",
    "plt.loglog(freqs, -phi_all_bh, c='darkorange', label='Total contribution', linewidth=1, linestyle='--')\n",
    "plt.legend(fontsize='large')\n",
    "\n",
    "plt.xlabel('Frequency (Hz)', fontsize=12)\n",
    "plt.ylabel('Phase ($\\Phi$)', fontsize=12)\n",
    "plt.title('Contributions to phase ($\\Phi$)', fontsize=14)\n",
    "plt.grid(True)\n",
    "\n",
    "plt.show()"
   ]
  },
  {
   "cell_type": "markdown",
   "id": "613aba74",
   "metadata": {},
   "source": [
    "### Dephasing"
   ]
  },
  {
   "cell_type": "code",
   "execution_count": null,
   "id": "98592e2d",
   "metadata": {},
   "outputs": [],
   "source": [
    "# Check accretion dephasing with Pippa's article (...)\n",
    "\n",
    "freqs_check = [0.0037489759073066706, \n",
    "               0.0045808203206109815,\n",
    "               0.006397263952538412 ,\n",
    "               0.010041836308031946 ,\n",
    "               0.013676826091020286 ,\n",
    "               0.018941312194911387 ,\n",
    "               0.026341951000090097 ,\n",
    "               0.035283168107176875 ,\n",
    "               0.04257540311687632]\n",
    "               \n",
    "               \n",
    "               \n",
    "values_accretion_check = [31.422270942534333,\n",
    "                          12.573248925511695, \n",
    "                          3.024565426161052, \n",
    "                          0.415704312981927, \n",
    "                          0.11071307035571255, \n",
    "                          0.026632648952219524, \n",
    "                          0.0057866996191441086, \n",
    "                          0.0010793173820116447, \n",
    "                          0.00009383734048371296]"
   ]
  },
  {
   "cell_type": "code",
   "execution_count": null,
   "id": "b083d551",
   "metadata": {},
   "outputs": [],
   "source": [
    "plt.loglog(freqs, (+phi_acc_bh - phi_gw_bh)/(2 * np.pi), c='grey', label='accretion')\n",
    "plt.loglog(freqs, (+phi_dm_bh - phi_gw_bh)/(2 * np.pi), c='lightblue', label='dark matter')\n",
    "plt.axvline(x=f_isco, c='red', label='$f_{\\mathrm{isco}}$', linestyle='-.', linewidth=1)\n",
    "plt.xlabel('$f$ [1/s]', fontsize=10)  # Increase x-label font size\n",
    "plt.ylabel(r'$\\Phi_i$', fontsize=10)  # Add y-label with increased font size\n",
    "plt.xticks(fontsize=10)  # Increase tick font size for x-axis\n",
    "plt.yticks(fontsize=10)  # Increase tick font size for y-axis\n",
    "plt.grid(True)\n",
    "plt.scatter(freqs_check, values_accretion_check, marker='o',  c='white', s=7, edgecolor='black', label='from paper')\n",
    "plt.tick_params(axis='y', which='minor')\n",
    "plt.xlim(10**(-3), 1.1 * f_isco)\n",
    "plt.legend(fontsize='large');"
   ]
  },
  {
   "cell_type": "markdown",
   "id": "63ef60a9",
   "metadata": {},
   "source": [
    "### Testing the code on the analytical solution I found\n",
    "\n",
    "Which is just the GW case."
   ]
  },
  {
   "cell_type": "code",
   "execution_count": null,
   "id": "eff7b742",
   "metadata": {},
   "outputs": [],
   "source": [
    "phi_gw_an = -G**(-5/3) * (M_tot)**(1/3) * c**5 / (16 * np.pi**(5/3) * m1 * m2) * (freqs**(-5/3) - f_isco**(-5/3))"
   ]
  },
  {
   "cell_type": "code",
   "execution_count": null,
   "id": "e601262a",
   "metadata": {},
   "outputs": [],
   "source": [
    "plt.plot(freqs/f_isco, phi_gw_an, c='black', linestyle='--', label='GW analytical', linewidth=1.5)\n",
    "plt.plot(freqs/f_isco, phi_gw_bh, c='violet', linestyle='-', label='GW numerical', alpha=0.5, linewidth=2)\n",
    "plt.xlabel('$f/f_{\\mathrm{isco}}$ [1/s]', fontsize=10)  # Increase x-label font size\n",
    "plt.ylabel(r'$\\Phi$', fontsize=10)  # Add y-label with increased font size\n",
    "plt.xticks(fontsize=10)  # Increase tick font size for x-axis\n",
    "plt.yticks(fontsize=10)  # Increase tick font size for y-axis\n",
    "plt.grid(True)  # Add gridlines\n",
    "plt.legend();"
   ]
  },
  {
   "cell_type": "markdown",
   "id": "50de1727",
   "metadata": {},
   "source": [
    "### Second derivatives of the phase"
   ]
  },
  {
   "cell_type": "code",
   "execution_count": null,
   "id": "fd57b1cf",
   "metadata": {},
   "outputs": [],
   "source": [
    "ddot_phase_all = ddot_phase_f(df_dt_all)\n",
    "ddot_phase_acc = ddot_phase_f(df_dt_acc)\n",
    "ddot_phase_dm = ddot_phase_f(df_dt_dm)\n",
    "ddot_phase_gw = ddot_phase_f(df_dt_gw)"
   ]
  },
  {
   "cell_type": "code",
   "execution_count": null,
   "id": "ebfb2218",
   "metadata": {
    "scrolled": false
   },
   "outputs": [],
   "source": [
    "fig, axs = plt.subplots(2, 2, figsize=(12,10))\n",
    "\n",
    "plt.suptitle('Contributions to $\\ddot{\\Phi}(f)$', fontsize=14)\n",
    "\n",
    "\n",
    "axs[0, 0].plot(freqs/f_isco, ddot_phase_acc, c='blue', linestyle='-', label='$\\ddot{\\Phi}_{\\mathrm{acc}}$', linewidth=1.5)\n",
    "axs[0, 0].set_xlabel('$f/f_\\mathrm{isco}$', fontsize=10)  # Increase x-label font size\n",
    "axs[0, 0].set_ylabel(r'$\\ddot{\\Phi}$', fontsize=10)  # Add y-label with increased font size\n",
    "axs[0, 0].tick_params(axis='x', labelsize=12)  # Increase tick font size for x-axis\n",
    "axs[0, 0].tick_params(axis='y', labelsize=12)  # Increase tick font size for y-axis\n",
    "axs[0, 0].grid(True)  # Add gridlines\n",
    "axs[0, 0].legend()  # Add legend\n",
    "axs[0, 0].ticklabel_format(scilimits=(-2,2), useMathText=True)\n",
    "\n",
    "axs[0, 1].plot(freqs/f_isco, ddot_phase_dm, c='green', linestyle='-', label='$\\ddot{\\Phi}_{\\mathrm{dm}}$', linewidth=1.5)\n",
    "axs[0, 1].set_xlabel('$f/f_\\mathrm{isco}$', fontsize=10)  # Increase x-label font size\n",
    "axs[0, 1].set_ylabel(r'$\\ddot{\\Phi}$', fontsize=10)  # Add y-label with increased font size\n",
    "axs[0, 1].tick_params(axis='x', labelsize=12)  # Increase tick font size for x-axis\n",
    "axs[0, 1].tick_params(axis='y', labelsize=12)  # Increase tick font size for y-axis\n",
    "axs[0, 1].grid(True)  # Add gridlines\n",
    "axs[0, 1].legend()  # Add legend\n",
    "axs[0, 1].ticklabel_format(scilimits=(-2,2), useMathText=True)\n",
    "\n",
    "axs[1, 0].plot(freqs/f_isco, ddot_phase_gw, c='violet', linestyle='-', label='$\\ddot{\\Phi}_{\\mathrm{GW}}$', linewidth=1.5)\n",
    "axs[1, 0].set_xlabel('$f/f_\\mathrm{isco}$', fontsize=10)  # Increase x-label font size\n",
    "axs[1, 0].set_ylabel(r'$\\ddot{\\Phi}$', fontsize=10)  # Add y-label with increased font size\n",
    "axs[1, 0].tick_params(axis='x', labelsize=12)  # Increase tick font size for x-axis\n",
    "axs[1, 0].tick_params(axis='y', labelsize=12)  # Increase tick font size for y-axis\n",
    "axs[1, 0].grid(True)  # Add gridlines\n",
    "axs[1, 0].legend()  # Add legend\n",
    "axs[1, 0].ticklabel_format(scilimits=(-2,2), useMathText=True)\n",
    "\n",
    "axs[1, 1].plot(freqs/f_isco, ddot_phase_all, c='orange', linestyle='-', label='$\\ddot{\\Phi}_{\\mathrm{tot}}$', linewidth=1.5)\n",
    "axs[1, 1].set_xlabel('$f/f_\\mathrm{isco}$', fontsize=10)  # Increase x-label font size\n",
    "axs[1, 1].set_ylabel(r'$\\ddot{\\Phi}$', fontsize=10)  # Add y-label with increased font size\n",
    "axs[1, 1].tick_params(axis='x', labelsize=12)  # Increase tick font size for x-axis\n",
    "axs[1, 1].tick_params(axis='y', labelsize=12)  # Increase tick font size for y-axis\n",
    "axs[1, 1].grid(True)  # Add gridlines\n",
    "axs[1, 1].legend()  # Add legend\n",
    "axs[1, 1].ticklabel_format(scilimits=(-2,2), useMathText=True)\n",
    "\n",
    "plt.show()"
   ]
  },
  {
   "cell_type": "markdown",
   "id": "1ffbca06",
   "metadata": {},
   "source": [
    "### Testing the code on the analytical solution I found\n",
    "\n",
    "Which, again, is just the GW case."
   ]
  },
  {
   "cell_type": "code",
   "execution_count": null,
   "id": "b97fbd20",
   "metadata": {},
   "outputs": [],
   "source": [
    "ddot_phi_gw_an = 12 * np.pi**2 * G**(5/3) * (M_tot)**(-1/3) * c**(-5) * (16 * np.pi**(5/3) * m1 * m2) / 5 * (freqs**(11/3))"
   ]
  },
  {
   "cell_type": "code",
   "execution_count": null,
   "id": "5754a90b",
   "metadata": {},
   "outputs": [],
   "source": [
    "plt.plot(freqs/f_isco, ddot_phi_gw_an, c='black', linestyle='--', label='GW analytical', linewidth=1.5)\n",
    "plt.plot(freqs/f_isco, ddot_phase_gw, c='violet', linestyle='-', label='GW numerical', alpha=0.5, linewidth=2)\n",
    "plt.xlabel('$f/f_{\\mathrm{isco}}$ [1/s]', fontsize=10)  # Increase x-label font size\n",
    "plt.ylabel(r'$\\ddot{\\Phi}$', fontsize=10)  # Add y-label with increased font size\n",
    "plt.xticks(fontsize=10)  # Increase tick font size for x-axis\n",
    "plt.yticks(fontsize=10)  # Increase tick font size for y-axis\n",
    "plt.grid(True)  # Add gridlines\n",
    "plt.legend();"
   ]
  },
  {
   "cell_type": "markdown",
   "id": "006648c2",
   "metadata": {},
   "source": [
    "### Finding $h_0$ strain"
   ]
  },
  {
   "cell_type": "code",
   "execution_count": null,
   "id": "b1d1db9b",
   "metadata": {},
   "outputs": [],
   "source": [
    "h_0_all = h_0(freqs, ddot_phase_all)\n",
    "h_0_acc = h_0(freqs, ddot_phase_acc)\n",
    "h_0_dm = h_0(freqs, ddot_phase_dm)\n",
    "h_0_gw = h_0(freqs, ddot_phase_gw)"
   ]
  },
  {
   "cell_type": "code",
   "execution_count": null,
   "id": "be4aa2de",
   "metadata": {},
   "outputs": [],
   "source": [
    "fig, axs = plt.subplots(2, 2, figsize=(12,10))\n",
    "\n",
    "plt.suptitle('Contributions to $h_0$', fontsize=14)\n",
    "\n",
    "\n",
    "axs[0, 0].loglog(freqs/f_isco, h_0_acc, c='blue', linestyle='-', label='$h_{0, \\mathrm{acc}}$', linewidth=1.5)\n",
    "axs[0, 0].set_xlabel('$f/f_\\mathrm{isco}$', fontsize=10)  # Increase x-label font size\n",
    "axs[0, 0].set_ylabel(r'$h_0$', fontsize=10)  # Add y-label with increased font size\n",
    "axs[0, 0].tick_params(axis='x', labelsize=12)  # Increase tick font size for x-axis\n",
    "axs[0, 0].tick_params(axis='y', labelsize=12)  # Increase tick font size for y-axis\n",
    "axs[0, 0].grid(True)  # Add gridlines\n",
    "axs[0, 0].legend()  # Add legend\n",
    "#axs[0, 0].ticklabel_format(scilimits=(-2,2), useMathText=True)\n",
    "\n",
    "axs[0, 1].loglog(freqs/f_isco, h_0_dm, c='green', linestyle='-', label='$h_{0, \\mathrm{dm}}$', linewidth=1.5)\n",
    "axs[0, 1].set_xlabel('$f/f_\\mathrm{isco}$', fontsize=10)  # Increase x-label font size\n",
    "axs[0, 1].set_ylabel(r'$h_0$', fontsize=10)  # Add y-label with increased font size\n",
    "axs[0, 1].tick_params(axis='x', labelsize=12)  # Increase tick font size for x-axis\n",
    "axs[0, 1].tick_params(axis='y', labelsize=12)  # Increase tick font size for y-axis\n",
    "axs[0, 1].grid(True)  # Add gridlines\n",
    "axs[0, 1].legend()  # Add legend\n",
    "#axs[0, 1].ticklabel_format(scilimits=(-2,2), useMathText=True)\n",
    "\n",
    "axs[1, 0].loglog(freqs/f_isco, h_0_gw, c='violet', linestyle='-', label='$h_{0, \\mathrm{GW}}$', linewidth=1.5)\n",
    "axs[1, 0].set_xlabel('$f/f_\\mathrm{isco}$', fontsize=10)  # Increase x-label font size\n",
    "axs[1, 0].set_ylabel(r'$h_0$', fontsize=10)  # Add y-label with increased font size\n",
    "axs[1, 0].tick_params(axis='x', labelsize=12)  # Increase tick font size for x-axis\n",
    "axs[1, 0].tick_params(axis='y', labelsize=12)  # Increase tick font size for y-axis\n",
    "axs[1, 0].grid(True)  # Add gridlines\n",
    "axs[1, 0].legend()  # Add legend\n",
    "#axs[1, 0].ticklabel_format(scilimits=(-2,2), useMathText=True)\n",
    "\n",
    "axs[1, 1].loglog(freqs/f_isco, h_0_all, c='orange', linestyle='-', label='$h_{0, \\mathrm{tot}}$', linewidth=1.5)\n",
    "axs[1, 1].set_xlabel('$f/f_\\mathrm{isco}$', fontsize=10)  # Increase x-label font size\n",
    "axs[1, 1].set_ylabel(r'$h_0$', fontsize=10)  # Add y-label with increased font size\n",
    "axs[1, 1].tick_params(axis='x', labelsize=12)  # Increase tick font size for x-axis\n",
    "axs[1, 1].tick_params(axis='y', labelsize=12)  # Increase tick font size for y-axis\n",
    "axs[1, 1].grid(True)  # Add gridlines\n",
    "axs[1, 1].legend()  # Add legend\n",
    "#axs[1, 1].ticklabel_format(scilimits=(-2,2), useMathText=True)\n",
    "\n",
    "plt.show()"
   ]
  },
  {
   "cell_type": "markdown",
   "id": "be6e7f07",
   "metadata": {},
   "source": [
    "---"
   ]
  }
 ],
 "metadata": {
  "kernelspec": {
   "display_name": "Python 3 (ipykernel)",
   "language": "python",
   "name": "python3"
  },
  "language_info": {
   "codemirror_mode": {
    "name": "ipython",
    "version": 3
   },
   "file_extension": ".py",
   "mimetype": "text/x-python",
   "name": "python",
   "nbconvert_exporter": "python",
   "pygments_lexer": "ipython3",
   "version": "3.10.10"
  }
 },
 "nbformat": 4,
 "nbformat_minor": 5
}
